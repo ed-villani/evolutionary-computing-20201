{
 "cells": [
  {
   "cell_type": "markdown",
   "metadata": {},
   "source": [
    "# Evolução de strings\n",
    "\n",
    "**Problema**: Projetar um Algoritmo Genétrico que evolui uma população de strings até convergir para a seguinte string:\n",
    "\n",
    "$METHINKS*IT*IS*LIKE*A*WEASEL$\n",
    "\n",
    "Nesse caso, será assumido um espaço de busca composto pelo caractere de espaço (representado por *), letras maíusculas e digitos de 0 a 9.\n",
    "\n",
    "A string alvo contém 28 caracteres e o espaço de busca é composto por 37 caracteres (26 letras, 10 números e o símbolo *). Portanto, o número de combinações possíveis é de $28^{37}$.\n",
    "\n",
    "Uma string gerada aleatoriamente a partir dos caracteres disponíveis, teria uma probabilidade de $\\frac{1}{28^{37}}$ de ser a resposta para o problema. \n",
    "\n",
    "Varrer todo o espaço de busca seria algo muito custoso computacionalmente e demoraria muito tempo. Uma boa forma de reduzir esse tempo é a partir da utilização de algoritmos mais inteligentes e que consigam ir identificando quais são as soluções que mais se aproximam da string objetivo.\n",
    "\n",
    "Os algoritmos genéticos apresentam essa capacidade. Ao longo das tentativas de solução, eles conseguem ir filtrando as respostas que mais se aproximam da string desejada e assim caminham de forma mais rápida em direção à solução do problema. Isso é feito a partir de técnicas de cruzamento e mutação, que serão exploradas a seguir."
   ]
  },
  {
   "cell_type": "markdown",
   "metadata": {},
   "source": [
    "A solução para o problema de evolução de strings encontra-se nas células abaixo. Todo o código foi comentado para facilitar o entendimento e optou-se por realizar a implementação mais modulizarizada possível a fim de facilitar a execução de testes."
   ]
  },
  {
   "cell_type": "markdown",
   "metadata": {},
   "source": [
    "### Instalação dos requisitos"
   ]
  },
  {
   "cell_type": "markdown",
   "metadata": {},
   "source": [
    "!pip install matplotlib"
   ]
  },
  {
   "cell_type": "markdown",
   "metadata": {},
   "source": [
    "### Implementação da solução"
   ]
  },
  {
   "cell_type": "code",
   "execution_count": 142,
   "metadata": {},
   "outputs": [],
   "source": [
    "import random\n",
    "import time\n",
    "import matplotlib.pyplot as plt\n",
    "\n",
    "class StringAG:\n",
    "    def __init__(self, goal, search_space, n_des, mut_rate) -> None:\n",
    "        self.goal = goal\n",
    "        self.search_space = search_space\n",
    "        self.n_des = n_des\n",
    "        self.mut_rate = mut_rate\n",
    "        self.best_desc = [] #Lista de melhores descendentes\n",
    "        self.allowed_pos = list(range(len(goal)))  #Lista de posicoes que podem mudar\n",
    "\n",
    "        self.parent = []\n",
    "        for i in range(len(self.goal)):\n",
    "            self.parent.append(random.choice(self.search_space))\n",
    "        print(\"Initial string: \", self.parent)\n",
    "    \n",
    "    \n",
    "    def generate_plot(self, fitness, gens) -> None:\n",
    "        plt.plot(list(range(gens)), fitness, '-', label = 'Fitness médio')\n",
    "        plt.xlabel('Geração')\n",
    "        plt.ylabel('Fitness')\n",
    "        plt.legend(loc=\"upper left\")\n",
    "        plt.title('Evolução do fitness médio')\n",
    "\n",
    "    def mutate(self,children_list) -> list:\n",
    "        child = self.parent[:]\n",
    "        # Iterando sobre as posicoes do child, para cada posicao, permitir a possibilidade de mutacao\n",
    "        for pos in self.allowed_pos:\n",
    "            #Deixar o residuo mutar com uma probabilidade de mut_rate\n",
    "            if random.random() < self.mut_rate:\n",
    "\n",
    "                #Selecionando um caractere aleatoriamente (diferente do caractere atual)\n",
    "                prev_char = self.parent[pos]\n",
    "                new_espaco = set(self.search_space) - set(prev_char)\n",
    "                new_char = random.choice(list(new_espaco))\n",
    "\n",
    "                # child com mutacao\n",
    "                child[pos] = new_char\n",
    "            children_list.append(child)\n",
    "\n",
    "        return children_list\n",
    "\n",
    "    def best_fit(self, children_list) -> float:\n",
    "        #Encontrando os descendentes com maior fit -> mais proximos ao goal\n",
    "        smallest_dif = len(self.goal) + 1\n",
    "        for child in children_list:\n",
    "            # Encontrando o numero de posicoes que se diferem entre o child e o goal\n",
    "            dif = 0.0\n",
    "            for pos in range(len(self.goal)):\n",
    "                if child[pos] != self.goal[pos]:\n",
    "                    dif += 1\n",
    "            # Mantendo o melhor child encontrado ate o momento\n",
    "            if dif < smallest_dif:\n",
    "                smallest_dif = dif\n",
    "                self.best_desc = child\n",
    "\n",
    "        return smallest_dif\n",
    "\n",
    "    def update_generation(self) -> list:\n",
    "\n",
    "        #Gerar n_des childs que podem conter mutacoes\n",
    "        children_list = []\n",
    "\n",
    "        for i in range(self.n_des):\n",
    "\n",
    "            children_list = self.mutate(children_list)\n",
    "\n",
    "            # # Adicionando childs a lista\n",
    "            # children_list.append(child)\n",
    "\n",
    "            smallest_dif = self.best_fit(children_list)\n",
    "\n",
    "            #Removendo as posicoes que ja estao corretas da lista de posicoes permitidas para a mutacao\n",
    "            tmp_list = self.allowed_pos[:]\n",
    "            for pos in tmp_list:\n",
    "                if self.best_desc[pos] == self.goal[pos]:\n",
    "                    self.allowed_pos.remove(pos)\n",
    "\n",
    "            #Utilizando o melhor descendente como ponto de start para o proximo ciclo de mutacoes\n",
    "            self.parent = self.best_desc\n",
    "\n",
    "            fitness = (len(self.goal) - smallest_dif)/len(self.goal)\n",
    "            result_string = \"\"\n",
    "            for pos in range(len(self.goal)):\n",
    "                if self.best_desc[pos] == self.goal[pos]:\n",
    "                    result_string += self.best_desc[pos]\n",
    "                else:\n",
    "                    result_string += self.best_desc[pos].lower()\n",
    "\n",
    "            return result_string, smallest_dif, fitness\n",
    "\n",
    "    def start(self) -> int:\n",
    "        gen = 0\n",
    "        all_fitness = []\n",
    "        while self.best_desc != self.goal:\n",
    "            gen += 1\n",
    "            result_string, smallest_dif, fitness = self.update_generation()\n",
    "            all_fitness.append(fitness)\n",
    "            print (\"%s  ->  Geracao: %4d  -  Menor Dif: %3d  -  Fitness: %.4f \"\\\n",
    "                        % (result_string, gen, smallest_dif, fitness), end='\\r')\n",
    "            time.sleep(0.0001)\n",
    "        self.generate_plot(all_fitness, gen)\n",
    "        return gen"
   ]
  },
  {
   "cell_type": "markdown",
   "metadata": {},
   "source": [
    "### Testes"
   ]
  },
  {
   "cell_type": "markdown",
   "metadata": {},
   "source": [
    "O primeiro teste baseou-se na seleção de um número fixo de descendentes e probabilidade de mutação para entender qual seria o número médio de gerações necessárias para a convergência. Optou-se por uma população inicial de 150 individuos e uma taxa de mutação de 0.5. "
   ]
  },
  {
   "cell_type": "code",
   "execution_count": 136,
   "metadata": {
    "collapsed": true,
    "jupyter": {
     "outputs_hidden": true
    }
   },
   "outputs": [
    {
     "name": "stdout",
     "output_type": "stream",
     "text": [
      "Initial string:  ['3', 'W', 'Z', 'E', 'M', 'P', 'F', 'G', 'D', '*', 'D', 'C', 'T', 'I', 'C', 'S', 'A', 'A', 'C', 'A', 'C', 'A', 'X', 'H', 'U', '7', '*', 'A']\n",
      "222HINKS*IT*IS*LIKE*A*WEASEL  ->  Geracao:  222  -  Menor Dif:   0  -  Fitness: 1.0000 \n",
      "Initial string:  ['J', 'K', '4', 'V', 'F', 'G', '7', 'C', 'J', 'W', 'R', 'N', 'Y', 'I', '1', 'P', 'U', 'P', '6', 'I', '9', 'K', '4', 'B', 'R', 'O', 'W', 'V']\n",
      "335HINKS*IT*IS*LIKE*A*WEASEL  ->  Geracao:  335  -  Menor Dif:   0  -  Fitness: 1.0000 \n",
      "Initial string:  ['H', 'J', 'Z', 'U', 'H', '5', 'Q', 'W', '6', 'W', '1', 'B', 'F', '6', 'S', 'O', 'F', 'K', 'T', 'X', 'N', 'I', '5', 'Q', 'R', 'O', '*', '4']\n",
      "235HINKS*IT*IS*LIKE*A*WEASEL  ->  Geracao:  235  -  Menor Dif:   0  -  Fitness: 1.0000 \n",
      "Initial string:  ['X', 'M', '1', 'L', 'O', 'E', 'W', 'B', '4', 'Z', 'F', 'T', '1', 'F', 'K', 'E', 'W', '9', '7', '7', 'A', 'L', 'R', 'A', 'Y', 'F', '5', 'K']\n",
      "158HINKS*IT*IS*LIKE*A*WEASEL  ->  Geracao:  158  -  Menor Dif:   0  -  Fitness: 1.0000 \n",
      "Initial string:  ['K', 'N', 'K', 'J', '6', 'E', 'W', 'V', '9', 'O', 'I', 'Q', 'W', '6', 'Y', 'H', 'R', 'W', '3', 'J', '7', 'W', 'M', '*', 'W', 'G', '1', '1']\n",
      "173HINKS*IT*IS*LIKE*A*WEASEL  ->  Geracao:  173  -  Menor Dif:   0  -  Fitness: 1.0000 \n",
      "Initial string:  ['X', 'I', 'N', 'F', 'C', 'K', 'Y', '6', 'N', 'V', 'V', 'X', 'U', 'T', 'T', '8', 'U', 'C', 'N', '2', 'J', '2', 'C', 'H', 'B', '8', '4', '7']\n",
      "247HINKS*IT*IS*LIKE*A*WEASEL  ->  Geracao:  247  -  Menor Dif:   0  -  Fitness: 1.0000 \n",
      "Initial string:  ['H', 'G', 'S', 'L', 'J', 'G', '9', '4', 'J', '2', 'T', 'K', 'S', '2', '0', '5', 'E', 'V', '3', 'L', 'Y', 'T', 'P', 'Y', 'F', '*', '5', '9']\n",
      "152HINKS*IT*IS*LIKE*A*WEASEL  ->  Geracao:  152  -  Menor Dif:   0  -  Fitness: 1.0000 \n",
      "Initial string:  ['K', 'L', '4', '0', 'X', 'X', 'P', 'Z', 'I', 'T', 'S', 'N', 'B', 'Q', '*', 'H', 'Q', 'E', 'K', 'R', '1', 'Q', 'Y', 'W', '1', '2', 'U', 'O']\n",
      "305HINKS*IT*IS*LIKE*A*WEASEL  ->  Geracao:  305  -  Menor Dif:   0  -  Fitness: 1.0000 \n",
      "Initial string:  ['5', '5', 'W', '8', 'S', '9', 'L', 'A', 'K', 'J', '6', 'R', 'F', 'H', 'P', 'Q', 'R', '3', '7', 'C', 'A', '6', 'W', '1', '7', '3', 'M', 'Q']\n",
      "428HINKS*IT*IS*LIKE*A*WEASEL  ->  Geracao:  428  -  Menor Dif:   0  -  Fitness: 1.0000 \n",
      "Initial string:  ['K', 'Z', '3', 'E', 'L', '0', '7', 'J', 'P', 'N', 'C', '*', 'N', 'N', '1', 'E', 'T', 'K', '9', 'Q', 'E', 'H', 'Q', 'F', 'X', '5', 'N', '9']\n",
      "245HINKS*IT*IS*LIKE*A*WEASEL  ->  Geracao:  245  -  Menor Dif:   0  -  Fitness: 1.0000 \n",
      "Initial string:  ['1', 'C', '3', 'B', 'A', 'E', '0', '1', 'X', 'J', 'Y', 'P', 'C', 'U', '8', 'Q', 'A', 'C', 'M', '5', 'H', '3', 'E', 'J', 'V', 'E', 'R', 'C']\n",
      "295HINKS*IT*IS*LIKE*A*WEASEL  ->  Geracao:  295  -  Menor Dif:   0  -  Fitness: 1.0000 \n",
      "Initial string:  ['*', 'L', 'O', 'D', '1', 'D', 'F', '9', 'V', 'A', 'A', 'D', 'Z', '*', 'V', '7', '8', 'U', 'Q', 'F', '5', 'O', '5', 'R', 'D', 'B', 'Y', 'A']\n",
      "156HINKS*IT*IS*LIKE*A*WEASEL  ->  Geracao:  156  -  Menor Dif:   0  -  Fitness: 1.0000 \n",
      "Initial string:  ['I', 'F', 'I', '0', 'B', 'V', 'G', 'W', 'Z', '7', 'U', 'I', 'L', '*', 'X', '3', 'R', 'U', '7', '2', 'O', 'J', 'F', 'I', 'J', 'C', 'L', 'W']\n",
      "245HINKS*IT*IS*LIKE*A*WEASEL  ->  Geracao:  245  -  Menor Dif:   0  -  Fitness: 1.0000 \n",
      "Initial string:  ['0', 'F', 'Y', 'I', 'L', 'H', 'J', 'E', 'E', 'B', 'X', 'N', 'O', 'W', 'L', 'P', 'V', '9', 'H', 'J', '0', 'N', 'N', 'W', '5', '*', '5', 'F']\n",
      "188HINKS*IT*IS*LIKE*A*WEASEL  ->  Geracao:  188  -  Menor Dif:   0  -  Fitness: 1.0000 \n",
      "Initial string:  ['R', 'C', 'U', 'D', '9', '8', 'F', 'E', '8', 'S', 'I', 'F', 'B', 'O', 'V', 'S', '8', 'F', 'Y', 'J', 'B', 'M', 'C', '1', 'A', '1', '2', 'C']\n",
      "365HINKS*IT*IS*LIKE*A*WEASEL  ->  Geracao:  365  -  Menor Dif:   0  -  Fitness: 1.0000 \n",
      "Initial string:  ['H', 'G', 'H', 'B', 'L', '0', 'D', 'G', '5', '3', 'D', 'W', 'K', '4', 'C', '2', 'V', 'A', 'K', 'W', '8', '3', '3', 'T', 'H', 'S', 'G', '3']\n",
      "480HINKS*IT*IS*LIKE*A*WEASEL  ->  Geracao:  480  -  Menor Dif:   0  -  Fitness: 1.0000 \n",
      "Initial string:  ['I', '4', 'Z', 'X', 'N', '*', 'V', '7', '*', 'R', 'Z', '4', 'N', '7', '8', 'T', '6', 'D', 'X', 'C', 'H', '9', 'G', '9', 'W', 'M', '1', '*']\n",
      "215HINKS*IT*IS*LIKE*A*WEASEL  ->  Geracao:  215  -  Menor Dif:   0  -  Fitness: 1.0000 \n",
      "Initial string:  ['5', 'T', 'Z', 'K', 'K', '1', 'W', '5', 'Q', 'C', '8', 'X', 'Z', 'N', '2', '8', 'U', 'H', 'S', 'G', 'B', 'J', 'N', 'T', 'O', 'M', 'E', 'H']\n",
      "229HINKS*IT*IS*LIKE*A*WEASEL  ->  Geracao:  229  -  Menor Dif:   0  -  Fitness: 1.0000 \n",
      "Initial string:  ['2', 'O', 'F', '8', 'O', 'J', 'B', 'O', 'N', 'G', '5', '7', 'K', 'C', 'L', 'K', 'K', 'K', 'C', 'E', 'V', '6', 'P', '1', '*', '0', 'H', '7']\n",
      "288HINKS*IT*IS*LIKE*A*WEASEL  ->  Geracao:  288  -  Menor Dif:   0  -  Fitness: 1.0000 \n",
      "Initial string:  ['3', 'U', 'Y', 'D', 'W', 'V', 'H', 'R', 'H', 'E', '3', '4', 'S', '0', 'H', 'G', 'S', 'G', 'M', 'A', 'L', 'R', 'I', 'J', 'H', '8', 'W', 'A']\n",
      "234HINKS*IT*IS*LIKE*A*WEASEL  ->  Geracao:  234  -  Menor Dif:   0  -  Fitness: 1.0000 \n",
      "Initial string:  ['P', '4', 'L', 'V', 'Z', '6', '*', 'Y', 'R', '0', '5', 'O', 'G', 'J', 'V', '2', '8', '7', 'O', 'C', 'W', '8', '3', 'X', 'I', '6', '2', '2']\n",
      "383HINKS*IT*IS*LIKE*A*WEASEL  ->  Geracao:  383  -  Menor Dif:   0  -  Fitness: 1.0000 \n",
      "Initial string:  ['U', '6', 'F', '6', 'Z', 'P', 'O', 'A', 'W', 'B', 'Z', '*', 'Y', 'R', 'R', 'K', 'I', 'F', 'K', '3', 'L', 'M', 'I', '7', '1', 'N', 'A', 'N']\n",
      "245HINKS*IT*IS*LIKE*A*WEASEL  ->  Geracao:  245  -  Menor Dif:   0  -  Fitness: 1.0000 \n",
      "Initial string:  ['7', 'H', 'S', '6', 'K', '3', '3', '9', 'Y', 'Q', 'R', '8', 'X', 'M', 'G', 'Y', 'O', '5', 'A', 'W', 'W', 'S', '7', '9', 'Q', 'H', 'E', 'I']\n",
      "176HINKS*IT*IS*LIKE*A*WEASEL  ->  Geracao:  176  -  Menor Dif:   0  -  Fitness: 1.0000 \n",
      "Initial string:  ['X', 'T', 'T', '7', 'K', 'I', '7', 'H', 'S', 'L', '4', 'M', 'S', 'I', 'O', 'V', 'O', 'O', 'U', 'H', 'G', 'Y', 'M', '5', 'I', '3', 'T', 'H']\n",
      "201HINKS*IT*IS*LIKE*A*WEASEL  ->  Geracao:  201  -  Menor Dif:   0  -  Fitness: 1.0000 \n",
      "Initial string:  ['Q', '3', '4', 'Z', 'K', 'X', 'C', 'X', 'O', '2', 'X', 'J', 'L', '*', '8', '8', 'T', '0', 'U', 'M', 'R', 'T', '9', 'F', '0', '1', 'O', 'A']\n",
      "254HINKS*IT*IS*LIKE*A*WEASEL  ->  Geracao:  254  -  Menor Dif:   0  -  Fitness: 1.0000 \n",
      "Initial string:  ['C', 'F', 'I', 'R', 'V', 'W', '7', 'H', '1', 'E', 'Z', '8', 'M', '9', '2', 'O', 'T', '2', 'M', 'W', 'O', 'M', 'Q', 'U', 'P', '7', '6', 'O']\n",
      "242HINKS*IT*IS*LIKE*A*WEASEL  ->  Geracao:  242  -  Menor Dif:   0  -  Fitness: 1.0000 \n",
      "Initial string:  ['R', '7', 'J', '1', '3', 'F', 'V', 'X', 'T', 'N', 'Y', '4', 'I', '5', 'O', '6', '1', 'I', 'R', '4', 'A', 'H', 'N', 'F', 'C', '2', 'I', '3']\n",
      "314HINKS*IT*IS*LIKE*A*WEASEL  ->  Geracao:  314  -  Menor Dif:   0  -  Fitness: 1.0000 \n",
      "Initial string:  ['D', 'T', '7', 'G', 'G', '8', '2', 'J', 'V', 'J', 'S', 'R', '*', 'R', 'W', '5', 'B', 'C', 'N', 'Z', 'Z', 'D', 'N', '0', 'T', '4', 'O', 'T']\n",
      "356HINKS*IT*IS*LIKE*A*WEASEL  ->  Geracao:  356  -  Menor Dif:   0  -  Fitness: 1.0000 \n",
      "Initial string:  ['B', 'M', '8', '1', 'Q', '1', 'W', 'V', 'Q', 'X', 'Z', 'R', 'C', 'Q', 'X', '3', 'K', 'W', 'Z', 'Y', 'D', 'T', '7', 'W', '0', '3', 'Y', 'Y']\n",
      "152HINKS*IT*IS*LIKE*A*WEASEL  ->  Geracao:  152  -  Menor Dif:   0  -  Fitness: 1.0000 \n",
      "Initial string:  ['9', 'W', 'Z', '2', 'Q', 'Q', '*', '7', 'T', 'C', '4', 'S', '8', '2', 'O', 'O', '0', '2', 'U', 'K', 'F', 'K', 'J', '2', 'R', '5', '4', 'V']\n",
      "383HINKS*IT*IS*LIKE*A*WEASEL  ->  Geracao:  383  -  Menor Dif:   0  -  Fitness: 1.0000 \n",
      "Initial string:  ['B', '*', 'P', 'N', '7', 'B', 'E', '7', '1', 'Z', '8', '7', '3', 'W', '7', 'L', 'N', '9', '4', 'S', '0', 'T', 'I', 'T', '0', 'U', '6', 'V']\n",
      "469HINKS*IT*IS*LIKE*A*WEASEL  ->  Geracao:  469  -  Menor Dif:   0  -  Fitness: 1.0000 \n",
      "Initial string:  ['A', 'M', 'A', '6', 'W', 'I', 'T', 'O', '3', 'M', '9', '3', 'M', 'Y', 'B', '3', 'X', 'E', 'M', 'J', 'V', '8', 'I', 'D', 'J', 'A', 'N', '*']\n",
      "313HINKS*IT*IS*LIKE*A*WEASEL  ->  Geracao:  313  -  Menor Dif:   0  -  Fitness: 1.0000 \n",
      "Initial string:  ['3', '6', '*', 'I', '4', '9', 'E', '4', 'D', 'J', '0', 'V', 'D', 'V', '8', 'G', 'W', 'Z', '9', '6', 'Z', '5', '4', '9', '1', '4', 'A', 'H']\n",
      "261HINKS*IT*IS*LIKE*A*WEASEL  ->  Geracao:  261  -  Menor Dif:   0  -  Fitness: 1.0000 \n",
      "Initial string:  ['Y', 'O', '9', '0', 'Y', 'R', 'F', 'F', 'K', 'I', 'K', 'U', 'Z', 'H', 'Z', '5', 'L', '*', 'F', 'J', '4', 'I', 'J', 'W', '0', 'O', 'O', '1']\n",
      "225HINKS*IT*IS*LIKE*A*WEASEL  ->  Geracao:  225  -  Menor Dif:   0  -  Fitness: 1.0000 \n",
      "Initial string:  ['F', 'I', '3', '7', 'Y', 'I', '1', '2', '9', 'T', '5', '8', '9', '7', 'E', 'W', 'S', 'M', 'P', '*', 'T', 'Y', 'N', '1', '0', 'K', 'M', 'D']\n",
      "211HINKS*IT*IS*LIKE*A*WEASEL  ->  Geracao:  211  -  Menor Dif:   0  -  Fitness: 1.0000 \n",
      "Initial string:  ['*', 'K', 'V', 'B', 'C', 'A', 'P', 'C', 'P', 'F', 'R', 'M', 'J', 'I', 'E', '7', 'T', 'G', 'K', '0', 'X', '0', '5', 'X', '*', '0', 'X', '5']\n",
      "200HINKS*IT*IS*LIKE*A*WEASEL  ->  Geracao:  200  -  Menor Dif:   0  -  Fitness: 1.0000 \n",
      "Initial string:  ['R', 'Y', 'C', 'L', 'O', 'O', 'A', 'I', 'X', 'M', 'J', 'G', 'S', 'L', '8', 'O', 'P', 'D', 'O', '4', '*', 'L', '4', '0', '2', 'Z', 'I', 'N']\n",
      "172HINKS*IT*IS*LIKE*A*WEASEL  ->  Geracao:  172  -  Menor Dif:   0  -  Fitness: 1.0000 \n",
      "Initial string:  ['6', '5', 'S', '1', '5', 'C', 'K', 'A', 'O', 'U', 'J', 'J', 'Z', 'F', '7', 'C', 'C', 'I', '0', 'S', 'J', '*', 'C', 'Q', 'G', 'S', '8', 'U']\n",
      "129HINKS*IT*IS*LIKE*A*WEASEL  ->  Geracao:  129  -  Menor Dif:   0  -  Fitness: 1.0000 \n",
      "Initial string:  ['G', '3', '9', '*', 'U', 'G', 'I', '3', '8', 'T', 'L', 'R', 'N', 'K', 'W', 'A', 'Q', '5', 'K', 'Y', '1', 'D', '7', '1', '8', '2', '0', '*']\n",
      "185HINKS*IT*IS*LIKE*A*WEASEL  ->  Geracao:  185  -  Menor Dif:   0  -  Fitness: 1.0000 \n",
      "Initial string:  ['C', '9', '2', '6', 'F', '7', 'H', '2', 'S', '1', 'P', 'A', 'W', '5', '6', 'M', 'W', 'Y', 'W', 'T', 'U', '4', '*', 'H', '2', 'S', 'N', '*']\n",
      "217HINKS*IT*IS*LIKE*A*WEASEL  ->  Geracao:  217  -  Menor Dif:   0  -  Fitness: 1.0000 \n",
      "Initial string:  ['1', 'K', 'D', 'W', 'Z', 'T', '*', 'D', '6', '8', '2', 'X', 'F', 'Y', 'S', 'W', 'Z', 'F', '3', 'O', 'A', 'M', 'D', '9', 'G', 'P', 'H', 'G']\n",
      "266HINKS*IT*IS*LIKE*A*WEASEL  ->  Geracao:  266  -  Menor Dif:   0  -  Fitness: 1.0000 \n",
      "Initial string:  ['I', '6', 'U', 'L', 'U', 'E', 'A', '0', '6', '9', 'G', '7', '6', 'V', 'J', 'O', 'B', 'O', '1', 'Y', '4', '6', 'M', '5', '1', '4', 'G', '6']\n",
      "208HINKS*IT*IS*LIKE*A*WEASEL  ->  Geracao:  208  -  Menor Dif:   0  -  Fitness: 1.0000 \n",
      "Initial string:  ['8', 'T', 'A', 'I', 'Z', 'O', 'J', '5', 'A', '6', 'U', 'H', 'G', 'O', 'E', '3', 'S', 'W', 'F', '4', 'K', 'V', 'U', 'N', 'K', 'Q', 'S', '2']\n",
      "227HINKS*IT*IS*LIKE*A*WEASEL  ->  Geracao:  227  -  Menor Dif:   0  -  Fitness: 1.0000 \n",
      "Initial string:  ['D', 'J', 'H', 'P', 'N', 'Y', '5', 'B', '2', '5', 'V', 'J', 'Z', 'J', '1', '2', 'S', 'C', 'V', 'R', 'Y', '5', 'U', 'Q', 'A', '1', 'C', 'K']\n",
      "344HINKS*IT*IS*LIKE*A*WEASEL  ->  Geracao:  344  -  Menor Dif:   0  -  Fitness: 1.0000 \n",
      "Initial string:  ['K', '7', 'F', 'J', '6', '2', 'F', 'U', 'Z', '9', '8', '0', '8', 'G', 'Q', 'V', 'E', '0', 'F', '1', '7', 'Z', 'T', '9', '5', 'Z', 'D', '8']\n",
      "278HINKS*IT*IS*LIKE*A*WEASEL  ->  Geracao:  278  -  Menor Dif:   0  -  Fitness: 1.0000 \n",
      "Initial string:  ['Z', '2', 'D', 'N', '8', 'D', 'D', 'H', '*', 'C', 'S', '2', '0', 'O', 'X', 'R', '7', 'E', '8', 'P', '0', 'T', 'W', '7', '5', 'D', 'I', '1']\n",
      "211HINKS*IT*IS*LIKE*A*WEASEL  ->  Geracao:  211  -  Menor Dif:   0  -  Fitness: 1.0000 \n",
      "Initial string:  ['A', 'W', 'H', 'V', 'C', 'E', 'D', 'B', '0', 'A', '6', '7', '7', 'J', 'F', '*', 'K', 'K', 'Q', 'O', 'V', 'Z', 'M', 'X', 'P', '2', 'H', '*']\n",
      "237HINKS*IT*IS*LIKE*A*WEASEL  ->  Geracao:  237  -  Menor Dif:   0  -  Fitness: 1.0000 \n",
      "Initial string:  ['0', '4', 'A', 'I', 'O', 'G', 'D', '0', 'W', 'L', 'H', '9', 'D', 'C', '5', 'N', 'X', '0', '6', 'P', 'H', 'J', 'M', '0', 'Q', '5', '6', '1']\n",
      "265HINKS*IT*IS*LIKE*A*WEASEL  ->  Geracao:  265  -  Menor Dif:   0  -  Fitness: 1.0000 \n",
      "Initial string:  ['1', 'Q', 'H', 'Y', 'G', 'Y', 'L', 'N', '2', 'K', 'G', 'Y', 'T', '1', 'P', '6', '7', 'K', '3', 'L', 'B', 'V', 'G', 'I', 'G', '8', 'Y', '5']\n",
      "247HINKS*IT*IS*LIKE*A*WEASEL  ->  Geracao:  247  -  Menor Dif:   0  -  Fitness: 1.0000 \n",
      "Initial string:  ['*', 'V', 'C', '*', '9', 'B', 'D', 'X', '8', 'C', 'C', '3', '5', '3', '9', '4', 'C', 'P', 'B', 'K', 'C', '1', 'F', 'V', 'A', 'A', 'R', 'Q']\n",
      "396HINKS*IT*IS*LIKE*A*WEASEL  ->  Geracao:  396  -  Menor Dif:   0  -  Fitness: 1.0000 \n",
      "Initial string:  ['7', 'U', '5', 'Q', 'Y', 'K', 'A', '4', 'A', 'S', '9', '7', 'H', 'J', '9', 'T', '9', '*', 'D', 'F', 'O', 'F', 'O', 'I', '9', 'L', '4', '6']\n",
      "428HINKS*IT*IS*LIKE*A*WEASEL  ->  Geracao:  428  -  Menor Dif:   0  -  Fitness: 1.0000 \n",
      "Initial string:  ['9', 'R', 'F', '3', 'T', '3', 'I', '5', 'M', 'H', '1', '3', 'Z', 'E', '8', 'J', 'P', 'S', 'R', 'F', '3', 'P', 'L', 'A', '2', '5', 'K', 'G']\n",
      "189HINKS*IT*IS*LIKE*A*WEASEL  ->  Geracao:  189  -  Menor Dif:   0  -  Fitness: 1.0000 \n",
      "Initial string:  ['7', 'K', 'B', 'M', 'R', '1', 'P', 'H', '0', 'Y', 'F', 'R', 'K', '*', 'P', '9', 'H', '9', '*', 'I', 'Z', '4', 'M', 'W', 'H', 'F', 'Q', '0']\n",
      "532HINKS*IT*IS*LIKE*A*WEASEL  ->  Geracao:  532  -  Menor Dif:   0  -  Fitness: 1.0000 \n",
      "Initial string:  ['*', '6', '5', '1', 'X', '7', 'Z', 'U', 'H', '6', 'J', 'H', 'B', '*', '0', 'T', 'R', '9', '7', 'G', '6', '*', '4', '5', '4', 'S', 'Z', 'Q']\n",
      "283HINKS*IT*IS*LIKE*A*WEASEL  ->  Geracao:  283  -  Menor Dif:   0  -  Fitness: 1.0000 \n",
      "Initial string:  ['F', 'P', '4', 'C', '3', 'Y', '5', 'P', 'I', 'D', '9', 'V', '*', '1', '0', 'N', 'K', 'Z', 'P', '1', '0', 'I', 'P', '8', '4', 'I', '0', 'X']\n",
      "413HINKS*IT*IS*LIKE*A*WEASEL  ->  Geracao:  413  -  Menor Dif:   0  -  Fitness: 1.0000 \n",
      "Initial string:  ['O', 'X', '6', 'S', 'S', '*', '3', '1', '6', 'J', '0', '1', 'T', '8', 'V', 'U', 'Q', 'T', '3', '8', 'S', '2', '3', '0', 'P', 'T', 'J', '6']\n",
      "200HINKS*IT*IS*LIKE*A*WEASEL  ->  Geracao:  200  -  Menor Dif:   0  -  Fitness: 1.0000 \n",
      "Initial string:  ['K', 'U', 'X', 'M', 'T', 'A', 'J', 'D', 'K', 'B', '3', 'Z', 'Q', 'C', 'L', '*', 'I', 'W', 'A', 'S', '5', 'L', 'T', 'E', 'G', 'U', 'K', 'O']\n",
      "479HINKS*IT*IS*LIKE*A*WEASEL  ->  Geracao:  479  -  Menor Dif:   0  -  Fitness: 1.0000 \n",
      "Initial string:  ['M', '*', 'X', '7', '8', '6', 'H', 'B', '2', '1', 'Z', 'O', '7', 'Q', 'X', '8', '7', 'F', 'E', '4', '8', 'M', '0', 'Q', '3', 'O', 'Q', 'X']\n",
      "225HINKS*IT*IS*LIKE*A*WEASEL  ->  Geracao:  225  -  Menor Dif:   0  -  Fitness: 1.0000 \n",
      "Initial string:  ['C', 'D', 'Z', '9', 'Q', 'S', 'M', 'K', 'G', 'N', 'K', 'B', 'W', '7', 'W', 'A', 'F', 'W', 'L', 'I', '1', 'R', 'E', 'M', '6', 'E', 'S', '*']\n",
      "460HINKS*IT*IS*LIKE*A*WEASEL  ->  Geracao:  460  -  Menor Dif:   0  -  Fitness: 1.0000 \n",
      "Initial string:  ['F', '8', 'S', 'V', 'L', 'J', '3', '5', 'F', 'T', '4', '8', 'L', 'A', 'A', 'C', 'N', 'U', '7', 'H', 'Q', 'E', '4', '5', 'B', 'P', '7', 'P']\n",
      "213HINKS*IT*IS*LIKE*A*WEASEL  ->  Geracao:  213  -  Menor Dif:   0  -  Fitness: 1.0000 \n",
      "Initial string:  ['Z', '7', '4', 'U', 'Y', 'S', '0', 'Q', 'B', 'K', '8', '*', 'R', 'S', 'F', '8', '4', 'M', 'A', '4', 'F', 'S', 'I', 'B', '4', '8', 'H', 'S']\n",
      "393HINKS*IT*IS*LIKE*A*WEASEL  ->  Geracao:  393  -  Menor Dif:   0  -  Fitness: 1.0000 \n",
      "Initial string:  ['9', '2', '6', '1', 'M', 'G', 'M', 'M', 'D', 'K', 'M', 'B', 'S', 'S', '2', 'F', 'B', 'H', '1', 'A', 'G', 'G', '*', 'F', 'Q', 'W', 'S', '7']\n",
      "459HINKS*IT*IS*LIKE*A*WEASEL  ->  Geracao:  459  -  Menor Dif:   0  -  Fitness: 1.0000 \n",
      "Initial string:  ['3', '5', 'P', '*', 'F', 'L', '7', 'X', 'G', 'D', 'P', 'J', 'Y', 'L', 'G', '3', '3', 'X', 'B', 'N', 'I', 'I', 'I', 'X', 'S', 'C', 'E', 'D']\n",
      "162HINKS*IT*IS*LIKE*A*WEASEL  ->  Geracao:  162  -  Menor Dif:   0  -  Fitness: 1.0000 \n",
      "Initial string:  ['A', 'A', 'J', 'B', '3', 'Q', 'Y', 'O', 'X', '6', 'M', 'F', 'X', 'G', 'X', 'S', 'M', 'A', 'D', '3', 'O', 'N', '2', '*', 'B', 'M', 'O', 'F']\n",
      "155HINKS*IT*IS*LIKE*A*WEASEL  ->  Geracao:  155  -  Menor Dif:   0  -  Fitness: 1.0000 \n",
      "Initial string:  ['U', 'L', 'B', 'M', 'W', '2', 'A', '0', 'X', '2', 'N', '3', 'L', 'P', '3', 'D', 'Z', 'F', '0', 'O', 'K', 'N', '2', 'Z', 'G', 'J', 'S', 'Q']\n",
      "275HINKS*IT*IS*LIKE*A*WEASEL  ->  Geracao:  275  -  Menor Dif:   0  -  Fitness: 1.0000 \n",
      "Initial string:  ['B', 'V', 'Y', 'Z', 'O', 'C', '3', 'K', 'L', 'E', '0', 'T', 'R', '7', '2', 'L', 'W', 'O', '*', '4', '*', 'F', 'T', 'X', '8', 'U', 'Z', 'L']\n",
      "256HINKS*IT*IS*LIKE*A*WEASEL  ->  Geracao:  256  -  Menor Dif:   0  -  Fitness: 1.0000 \n",
      "Initial string:  ['Z', 'D', 'O', '*', 'P', '6', 'C', 'U', 'T', 'V', 'A', 'E', 'V', 'M', 'A', 'C', '9', 'C', '5', 'T', 'W', 'R', 'I', 'S', 'A', 'S', '8', 'S']\n",
      "310HINKS*IT*IS*LIKE*A*WEASEL  ->  Geracao:  310  -  Menor Dif:   0  -  Fitness: 1.0000 \n",
      "Initial string:  ['9', '6', '7', 'L', 'P', 'F', 'E', 'D', '9', 'Y', 'O', 'H', 'C', 'D', 'D', '3', '8', 'K', '6', '7', 'V', '7', 'K', 'G', 'R', 'W', 'M', 'X']\n",
      "184HINKS*IT*IS*LIKE*A*WEASEL  ->  Geracao:  184  -  Menor Dif:   0  -  Fitness: 1.0000 \n",
      "Initial string:  ['I', 'E', '6', 'H', '9', 'C', 'X', '6', '6', 'D', 'B', '8', 'U', '3', 'G', 'P', '8', 'Z', 'U', 'G', 'V', '4', 'Q', 'J', 'O', 'D', 'A', 'U']\n",
      "286HINKS*IT*IS*LIKE*A*WEASEL  ->  Geracao:  286  -  Menor Dif:   0  -  Fitness: 1.0000 \n",
      "Initial string:  ['5', 'L', '1', 'N', 'T', 'O', '*', 'J', 'Y', '6', 'O', 'R', 'L', 'V', '4', 'G', '9', 'J', 'W', '6', 'A', 'M', '9', 'S', 'B', 'T', 'F', 'G']\n",
      "227HINKS*IT*IS*LIKE*A*WEASEL  ->  Geracao:  227  -  Menor Dif:   0  -  Fitness: 1.0000 \n",
      "Initial string:  ['D', '9', 'T', '3', 'G', 'E', '0', 'W', '3', 'Y', 'R', 'P', 'D', '2', 'C', 'N', 'W', 'A', 'K', 'Q', 'W', 'U', '6', 'E', 'A', 'G', '0', 'M']\n",
      "180HINKS*IT*IS*LIKE*A*WEASEL  ->  Geracao:  180  -  Menor Dif:   0  -  Fitness: 1.0000 \n",
      "Initial string:  ['4', 'A', 'N', '*', 'Z', 'Y', '*', '2', 'U', 'U', 'V', 'W', 'M', '*', '6', '0', 'L', 'N', 'U', 'U', '6', 'F', 'L', 'R', 'T', '5', '4', 'P']\n",
      "224HINKS*IT*IS*LIKE*A*WEASEL  ->  Geracao:  224  -  Menor Dif:   0  -  Fitness: 1.0000 \n",
      "Initial string:  ['G', 'P', '3', 'R', 'V', 'O', '9', 'D', '3', 'G', 'Q', '5', 'T', 'X', '8', 'U', '8', '8', 'G', 'L', 'O', 'J', 'N', 'Y', 'K', 'X', 'K', 'P']\n",
      "319HINKS*IT*IS*LIKE*A*WEASEL  ->  Geracao:  319  -  Menor Dif:   0  -  Fitness: 1.0000 \n",
      "Initial string:  ['4', 'U', 'L', '*', '*', 'O', 'H', '7', 'B', '2', 'P', '5', 'J', 'Q', 'R', 'F', 'M', 'C', 'Q', 'F', 'B', '7', '6', 'N', '6', 'I', '*', 'C']\n",
      "452HINKS*IT*IS*LIKE*A*WEASEL  ->  Geracao:  452  -  Menor Dif:   0  -  Fitness: 1.0000 \n",
      "Initial string:  ['C', 'M', '5', 'Y', 'I', 'X', 'G', 'P', '8', 'M', 'T', '1', '4', '7', 'M', 'Q', 'Z', 'F', 'S', '1', '0', 'V', '5', 'O', 'V', 'P', 'R', 'B']\n",
      "271HINKS*IT*IS*LIKE*A*WEASEL  ->  Geracao:  271  -  Menor Dif:   0  -  Fitness: 1.0000 \n",
      "Initial string:  ['M', 'T', 'P', 'P', 'Q', '2', 'H', 'U', 'Z', '7', 'I', '9', 'V', 'I', 'C', 'X', 'J', 'S', 'S', 'F', 'S', 'E', 'T', 'X', 'X', 'X', 'W', 'N']\n",
      "233HINKS*IT*IS*LIKE*A*WEASEL  ->  Geracao:  233  -  Menor Dif:   0  -  Fitness: 1.0000 \n",
      "Initial string:  ['0', 'R', '7', 'L', 'P', 'N', 'L', 'S', '*', '4', 'M', 'Q', 'M', 'S', 'F', '6', 'L', 'F', 'N', 'K', 'B', 'H', '7', '9', 'Y', 'O', 'X', 'G']\n",
      "173HINKS*IT*IS*LIKE*A*WEASEL  ->  Geracao:  173  -  Menor Dif:   0  -  Fitness: 1.0000 \n",
      "Initial string:  ['4', '2', 'Q', 'B', 'I', 'E', '7', 'T', 'E', '3', '4', '9', 'R', 'A', 'V', 'J', '8', 'R', 'W', 'W', 'P', 'G', 'D', 'I', 'W', 'C', 'V', '3']\n",
      "178HINKS*IT*IS*LIKE*A*WEASEL  ->  Geracao:  178  -  Menor Dif:   0  -  Fitness: 1.0000 \n",
      "Initial string:  ['E', 'L', 'W', 'J', 'B', 'G', 'K', 'X', '9', 'N', '2', 'Z', 'K', '9', 'W', '7', '8', '8', '7', 'K', 'Q', 'R', 'J', 'D', 'Y', 'U', 'D', 'V']\n",
      "320HINKS*IT*IS*LIKE*A*WEASEL  ->  Geracao:  320  -  Menor Dif:   0  -  Fitness: 1.0000 \n",
      "Initial string:  ['L', '8', 'Y', '3', '*', '8', 'S', 'T', 'N', '5', '8', 'I', '4', 'O', '*', 'H', 'V', 'X', '3', 'H', 'O', 'P', 'A', '*', '2', 'A', '5', 'V']\n",
      "329HINKS*IT*IS*LIKE*A*WEASEL  ->  Geracao:  329  -  Menor Dif:   0  -  Fitness: 1.0000 \n",
      "Initial string:  ['F', 'W', 'O', '4', 'Y', 'B', '*', '6', 'X', 'M', 'L', 'Q', 'A', 'F', '8', '8', 'P', 'T', '5', '0', '6', 'H', 'E', '6', 'A', '8', 'W', 'S']\n",
      "142HINKS*IT*IS*LIKE*A*WEASEL  ->  Geracao:  142  -  Menor Dif:   0  -  Fitness: 1.0000 \n",
      "Initial string:  ['0', '9', 'X', 'S', 'O', 'V', 'K', 'P', 'L', 'I', 'W', 'F', 'V', 'D', 'E', 'U', 'J', '2', '5', 'S', '6', 'O', 'G', 'Y', '6', 'E', 'D', 'L']\n",
      "330HINKS*IT*IS*LIKE*A*WEASEL  ->  Geracao:  330  -  Menor Dif:   0  -  Fitness: 1.0000 \n",
      "Initial string:  ['F', 'J', 'B', 'R', 'G', 'X', 'A', 'H', '5', 'U', 'O', 'J', '3', '1', '0', 'L', 'G', '2', 'F', '7', 'X', '4', 'F', '7', 'P', 'F', 'B', 'W']\n",
      "419HINKS*IT*IS*LIKE*A*WEASEL  ->  Geracao:  419  -  Menor Dif:   0  -  Fitness: 1.0000 \n",
      "Initial string:  ['Z', 'U', '3', '6', '2', 'P', 'N', '7', 'T', 'L', 'S', '0', 'D', 'A', 'W', 'V', 'X', 'C', '1', '2', 'G', 'H', 'R', 'F', 'C', 'O', 'M', 'X']\n",
      "231HINKS*IT*IS*LIKE*A*WEASEL  ->  Geracao:  231  -  Menor Dif:   0  -  Fitness: 1.0000 \n",
      "Initial string:  ['U', 'S', '2', '7', 'E', 'C', 'G', 'P', 'Y', 'J', '5', 'D', 'U', '3', 'G', 'N', '9', '*', 'S', 'I', 'X', 'A', 'R', 'A', '3', 'F', 'J', 'R']\n",
      "180HINKS*IT*IS*LIKE*A*WEASEL  ->  Geracao:  180  -  Menor Dif:   0  -  Fitness: 1.0000 \n",
      "Initial string:  ['X', 'R', 'U', 'Q', 'Z', '8', 'C', '*', 'M', 'O', 'S', 'Y', 'Q', 'G', '8', 'T', '6', '4', '7', 'T', 'O', 'F', 'Z', 'N', '8', 'Y', 'I', 'T']\n",
      "327HINKS*IT*IS*LIKE*A*WEASEL  ->  Geracao:  327  -  Menor Dif:   0  -  Fitness: 1.0000 \n",
      "Initial string:  ['S', 'F', '3', 'X', 'G', 'B', 'E', 'C', 'S', '9', 'T', '1', '2', 'S', 'P', 'G', '2', 'P', 'U', 'V', 'J', '1', 'A', 'R', 'N', 'R', 'K', 'C']\n",
      "126HINKS*IT*IS*LIKE*A*WEASEL  ->  Geracao:  126  -  Menor Dif:   0  -  Fitness: 1.0000 \n",
      "Initial string:  ['N', 'O', 'R', 'I', 'Y', 'N', '5', '7', 'B', 'Q', 'Y', 'F', '4', 'Z', 'G', '6', 'M', '0', '*', '1', '6', 'Y', 'I', '9', 'I', 'X', 'Y', 'A']\n",
      "300HINKS*IT*IS*LIKE*A*WEASEL  ->  Geracao:  300  -  Menor Dif:   0  -  Fitness: 1.0000 \n",
      "Initial string:  ['V', 'S', 'L', 'Y', 'A', 'F', '*', 'P', '2', 'X', 'V', 'S', '5', 'G', 'E', '6', 'W', 'X', 'M', 'X', 'P', 'O', 'N', '4', 'Z', 'S', 'D', '6']\n",
      "288HINKS*IT*IS*LIKE*A*WEASEL  ->  Geracao:  288  -  Menor Dif:   0  -  Fitness: 1.0000 \n",
      "Initial string:  ['J', '5', 'L', 'H', 'A', 'E', 'N', 'B', 'H', 'S', 'X', 'E', 'I', 'S', '5', 'E', 'P', 'E', 'T', '4', '1', '5', 'Y', 'E', '1', '2', '*', 'T']\n",
      "200HINKS*IT*IS*LIKE*A*WEASEL  ->  Geracao:  200  -  Menor Dif:   0  -  Fitness: 1.0000 \n",
      "Initial string:  ['I', 'T', 'H', 'B', 'P', 'Y', 'D', 'P', 'N', 'A', '0', 'U', '3', '6', '4', 'F', 'O', 'J', 'M', 'I', 'A', 'L', 'S', 'D', 'S', 'A', 'W', 'T']\n",
      "330HINKS*IT*IS*LIKE*A*WEASEL  ->  Geracao:  330  -  Menor Dif:   0  -  Fitness: 1.0000 \n",
      "Initial string:  ['K', '8', 'A', 'C', 'V', 'M', '0', 'Q', '*', '1', 'H', 'A', 'H', 'C', 'T', 'M', 'Z', 'P', 'O', 'V', 'Z', '7', 'M', '0', '9', '*', 'J', 'T']\n",
      "216HINKS*IT*IS*LIKE*A*WEASEL  ->  Geracao:  216  -  Menor Dif:   0  -  Fitness: 1.0000 \n",
      "Initial string:  ['A', 'P', 'F', '3', 'U', 'D', '5', 'Z', 'E', 'F', 'W', 'U', 'P', 'I', 'F', 'Z', '4', 'D', '4', 'S', 'Z', 'L', 'A', 'E', '6', 'U', 'K', '4']\n",
      "217HINKS*IT*IS*LIKE*A*WEASEL  ->  Geracao:  217  -  Menor Dif:   0  -  Fitness: 1.0000 \n",
      "Initial string:  ['Q', '*', 'B', 'W', 'V', 'S', '4', 'F', 'I', 'F', 'V', 'A', 'H', 'U', 'W', '4', '7', '5', 'G', 'Z', 'N', 'H', 'L', '3', 'I', 'Y', 'O', 'Y']\n",
      "163HINKS*IT*IS*LIKE*A*WEASEL  ->  Geracao:  163  -  Menor Dif:   0  -  Fitness: 1.0000 \n",
      "Initial string:  ['S', 'O', '6', '5', 'L', 'C', 'P', 'W', 'L', 'B', 'U', '8', '*', '3', 'M', 'M', 'C', '9', 'J', 'I', '1', 'E', '8', 'I', '2', 'T', '5', 'O']\n",
      "337HINKS*IT*IS*LIKE*A*WEASEL  ->  Geracao:  337  -  Menor Dif:   0  -  Fitness: 1.0000 \n",
      "Initial string:  ['Q', 'D', 'Q', 'M', 'V', 'D', 'G', '1', 'O', 'P', 'Q', '4', 'Q', 'H', '*', 'P', 'A', 'S', 'L', 'L', '4', 'F', 'A', 'K', 'H', '*', 'S', 'A']\n",
      "296HINKS*IT*IS*LIKE*A*WEASEL  ->  Geracao:  296  -  Menor Dif:   0  -  Fitness: 1.0000 \n",
      "Initial string:  ['1', 'O', 'V', 'W', 'J', '5', '7', 'K', 'Z', '3', 'M', 'E', 'B', '9', 'H', 'T', '1', 'J', 'D', '5', 'H', 'V', '0', 'L', '5', 'N', 'H', '1']\n",
      "281HINKS*IT*IS*LIKE*A*WEASEL  ->  Geracao:  281  -  Menor Dif:   0  -  Fitness: 1.0000 \n",
      "Initial string:  ['4', '*', 'T', 'F', 'E', '1', 'D', 'I', 'D', 'C', 'I', '7', 'R', '7', '1', '8', 'R', '6', 'D', '5', '1', 'M', 'G', 'A', 'S', 'Q', 'P', 'B']\n",
      "210HINKS*IT*IS*LIKE*A*WEASEL  ->  Geracao:  210  -  Menor Dif:   0  -  Fitness: 1.0000 \n",
      "Initial string:  ['G', 'P', 'Y', 'T', '3', '0', 'E', 'J', 'O', 'Q', 'B', 'I', '2', 'A', '3', 'Z', 'U', 'U', 'V', 'B', 'R', 'U', '*', 'S', 'N', 'R', 'S', '3']\n",
      "245HINKS*IT*IS*LIKE*A*WEASEL  ->  Geracao:  245  -  Menor Dif:   0  -  Fitness: 1.0000 \n",
      "Initial string:  ['4', 'W', '7', 'Q', 'Q', '*', '1', '9', 'L', 'E', 'N', '6', '9', 'F', 'E', '2', 'W', 'B', '5', 'U', 'E', 'E', 'C', '6', 'R', '*', 'E', 'W']\n",
      "284HINKS*IT*IS*LIKE*A*WEASEL  ->  Geracao:  284  -  Menor Dif:   0  -  Fitness: 1.0000 \n"
     ]
    }
   ],
   "source": [
    "all_gen = []\n",
    "\n",
    "for i in range(100):\n",
    "    algo = StringAG(\n",
    "        goal  = list(\"METHINKS*IT*IS*LIKE*A*WEASEL\"),\n",
    "        search_space  = \"ABCDEFGHIJKLMNOPQRSTUVWXYZ*0123456789\",\n",
    "        n_des  = 150,\n",
    "        mut_rate = 0.5\n",
    "    )\n",
    "\n",
    "    num_ger = algo.start()\n",
    "    print(num_ger)\n",
    "    all_gen.append(num_ger)"
   ]
  },
  {
   "cell_type": "code",
   "execution_count": 141,
   "metadata": {},
   "outputs": [
    {
     "name": "stdout",
     "output_type": "stream",
     "text": [
      "Número médio de gerações para a convergência:  268.92\n"
     ]
    }
   ],
   "source": [
    "print(\"Número médio de gerações para a convergência: \", sum(all_gen)/100)"
   ]
  },
  {
   "cell_type": "markdown",
   "metadata": {},
   "source": [
    "O segundo teste buscou investigar o quanto a taxa de mutação influencia na solução do problema. Os testes realizados com os valores 0.1, 0.25, 0.5 e 0.75 encontram-se nas células a seguir."
   ]
  },
  {
   "cell_type": "markdown",
   "metadata": {},
   "source": [
    "Taxa de mutação: 0.1"
   ]
  },
  {
   "cell_type": "code",
   "execution_count": 146,
   "metadata": {},
   "outputs": [
    {
     "name": "stdout",
     "output_type": "stream",
     "text": [
      "Initial string:  ['W', 'X', 'K', 'R', '1', 'J', 'A', 'F', 'W', 'J', 'Q', '9', 'A', 'R', 'D', 'M', 'Q', 'T', '7', 'U', 'G', 'T', 'O', 'Y', 'P', 'Q', 'L', 'N']\n",
      "METHINKS*IT*IS*LIKE*A*WEASEL  ->  Geracao: 1502  -  Menor Dif:   0  -  Fitness: 1.0000 \r"
     ]
    },
    {
     "data": {
      "image/png": "[encoded data removed]",
      "text/plain": [
       "<Figure size 432x288 with 1 Axes>"
      ]
     },
     "metadata": {
      "needs_background": "light"
     },
     "output_type": "display_data"
    }
   ],
   "source": [
    "algo = StringAG(\n",
    "        goal  = list(\"METHINKS*IT*IS*LIKE*A*WEASEL\"),\n",
    "        search_space  = \"ABCDEFGHIJKLMNOPQRSTUVWXYZ*0123456789\",\n",
    "        n_des  = 150,\n",
    "        mut_rate = 0.1\n",
    "    )\n",
    "\n",
    "num_ger = algo.start()"
   ]
  },
  {
   "cell_type": "markdown",
   "metadata": {},
   "source": [
    "Taxa de mutação: 0.25"
   ]
  },
  {
   "cell_type": "code",
   "execution_count": 148,
   "metadata": {},
   "outputs": [
    {
     "name": "stdout",
     "output_type": "stream",
     "text": [
      "Initial string:  ['E', 'S', 'B', 'U', 'K', 'V', '1', 'U', 'R', 'T', 'P', '2', 'S', 'H', 'S', 'V', 'G', '7', 'T', '5', 'K', '4', '6', 'T', '*', 'K', 'T', '1']\n",
      "METHINKS*IT*IS*LIKE*A*WEASEL  ->  Geracao:  599  -  Menor Dif:   0  -  Fitness: 1.0000 \r"
     ]
    },
    {
     "data": {
      "image/png": "[encoded data removed]",
      "text/plain": [
       "<Figure size 432x288 with 1 Axes>"
      ]
     },
     "metadata": {
      "needs_background": "light"
     },
     "output_type": "display_data"
    }
   ],
   "source": [
    "algo = StringAG(\n",
    "        goal  = list(\"METHINKS*IT*IS*LIKE*A*WEASEL\"),\n",
    "        search_space  = \"ABCDEFGHIJKLMNOPQRSTUVWXYZ*0123456789\",\n",
    "        n_des  = 150,\n",
    "        mut_rate = 0.25\n",
    "    )\n",
    "\n",
    "num_ger = algo.start()"
   ]
  },
  {
   "cell_type": "markdown",
   "metadata": {},
   "source": [
    "Taxa de mutação: 0.5"
   ]
  },
  {
   "cell_type": "code",
   "execution_count": 149,
   "metadata": {},
   "outputs": [
    {
     "name": "stdout",
     "output_type": "stream",
     "text": [
      "Initial string:  ['W', 'W', 'Z', 'X', 'E', 'R', 'U', 'V', 'P', 'J', 'R', 'K', 'P', 'L', 'I', '5', 'T', 'W', '5', '4', 'W', '*', 'V', 'C', 'A', '4', 'J', 'L']\n",
      "METHINKS*IT*IS*LIKE*A*WEASEL  ->  Geracao:  298  -  Menor Dif:   0  -  Fitness: 1.0000 \r"
     ]
    },
    {
     "data": {
      "image/png": "[encoded data removed]",
      "text/plain": [
       "<Figure size 432x288 with 1 Axes>"
      ]
     },
     "metadata": {
      "needs_background": "light"
     },
     "output_type": "display_data"
    }
   ],
   "source": [
    "algo = StringAG(\n",
    "        goal  = list(\"METHINKS*IT*IS*LIKE*A*WEASEL\"),\n",
    "        search_space  = \"ABCDEFGHIJKLMNOPQRSTUVWXYZ*0123456789\",\n",
    "        n_des  = 150,\n",
    "        mut_rate = 0.50\n",
    "    )\n",
    "\n",
    "num_ger = algo.start()"
   ]
  },
  {
   "cell_type": "markdown",
   "metadata": {},
   "source": [
    "Taxa de mutação: 0.75"
   ]
  },
  {
   "cell_type": "code",
   "execution_count": 154,
   "metadata": {},
   "outputs": [
    {
     "name": "stdout",
     "output_type": "stream",
     "text": [
      "Initial string:  ['*', 'F', '8', 'N', 'X', '3', 'U', 'G', 'H', '6', 'M', 'T', 'E', 'R', '7', 'E', '4', 'V', '2', 'B', '5', 'U', 'M', 'H', 'U', 'U', 'U', 'B']\n",
      "METHINKS*IT*IS*LIKE*A*WEASEL  ->  Geracao:  310  -  Menor Dif:   0  -  Fitness: 1.0000 \r"
     ]
    },
    {
     "data": {
      "image/png": "[encoded data removed]",
      "text/plain": [
       "<Figure size 432x288 with 1 Axes>"
      ]
     },
     "metadata": {
      "needs_background": "light"
     },
     "output_type": "display_data"
    }
   ],
   "source": [
    "algo = StringAG(\n",
    "        goal  = list(\"METHINKS*IT*IS*LIKE*A*WEASEL\"),\n",
    "        search_space  = \"ABCDEFGHIJKLMNOPQRSTUVWXYZ*0123456789\",\n",
    "        n_des  = 150,\n",
    "        mut_rate = 0.75\n",
    "    )\n",
    "\n",
    "num_ger = algo.start()"
   ]
  },
  {
   "cell_type": "markdown",
   "metadata": {},
   "source": [
    "Foi possível notar que, ao aumentar a taxa de mutação até ~0.5 ocorreu uma diminuição no número de gerações necessárias para a convergência. No entanto, ao ultrapassar esse limiar, percebeu-se que a taxa de mutação começou a influenciar negativamente nas iterações necessárias para chegar em uma solução. Isso faz sentido pois uma maior taxa de mutação acaba produzindo indivíduos com muita variabilidade, podendo fazer com que a busca se desvie com maior frequência do caminho em direção à solução do problema."
   ]
  }
 ],
 "metadata": {
  "kernelspec": {
   "display_name": "Python 3",
   "language": "python",
   "name": "python3"
  },
  "language_info": {
   "codemirror_mode": {
    "name": "ipython",
    "version": 3
   },
   "file_extension": ".py",
   "mimetype": "text/x-python",
   "name": "python",
   "nbconvert_exporter": "python",
   "pygments_lexer": "ipython3",
   "version": "3.6.9"
  }
 },
 "nbformat": 4,
 "nbformat_minor": 4
}
