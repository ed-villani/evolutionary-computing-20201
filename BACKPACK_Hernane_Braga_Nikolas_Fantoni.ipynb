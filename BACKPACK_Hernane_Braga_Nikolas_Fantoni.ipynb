{
 "cells": [
  {
   "cell_type": "markdown",
   "metadata": {
    "toc": true
   },
   "source": [
    "<h1>Sumário<span class=\"tocSkip\"></span></h1>\n",
    "<div class=\"toc\"><ul class=\"toc-item\"><li><span><a href=\"#[Parte-1]-Definindo-funções\" data-toc-modified-id=\"[Parte-1]-Definindo-funções-1\"><span class=\"toc-item-num\">1&nbsp;&nbsp;</span>[Parte 1] Definindo funções</a></span><ul class=\"toc-item\"><li><span><a href=\"#Definindo-estrutura-de-representação-do-problema\" data-toc-modified-id=\"Definindo-estrutura-de-representação-do-problema-1.1\"><span class=\"toc-item-num\">1.1&nbsp;&nbsp;</span>Definindo estrutura de representação do problema</a></span></li><li><span><a href=\"#Inicializando-o-problema-com-solução-aleatória\" data-toc-modified-id=\"Inicializando-o-problema-com-solução-aleatória-1.2\"><span class=\"toc-item-num\">1.2&nbsp;&nbsp;</span>Inicializando o problema com solução aleatória</a></span></li><li><span><a href=\"#fit-e-penalty-function\" data-toc-modified-id=\"fit-e-penalty-function-1.3\"><span class=\"toc-item-num\">1.3&nbsp;&nbsp;</span><code>fit</code> e <code>penalty</code> function</a></span></li><li><span><a href=\"#Seleção-de-pais\" data-toc-modified-id=\"Seleção-de-pais-1.4\"><span class=\"toc-item-num\">1.4&nbsp;&nbsp;</span>Seleção de pais</a></span><ul class=\"toc-item\"><li><span><a href=\"#Aplicando-rank-no-fit--da-população\" data-toc-modified-id=\"Aplicando-rank-no-fit--da-população-1.4.1\"><span class=\"toc-item-num\">1.4.1&nbsp;&nbsp;</span>Aplicando rank no fit  da população</a></span></li><li><span><a href=\"#Aplicando-transformação-lienar-no-rank-da-população\" data-toc-modified-id=\"Aplicando-transformação-lienar-no-rank-da-população-1.4.2\"><span class=\"toc-item-num\">1.4.2&nbsp;&nbsp;</span>Aplicando transformação lienar no rank da população</a></span></li><li><span><a href=\"#Seleção-de-solução-usando-roleta-de-seleção\" data-toc-modified-id=\"Seleção-de-solução-usando-roleta-de-seleção-1.4.3\"><span class=\"toc-item-num\">1.4.3&nbsp;&nbsp;</span>Seleção de solução usando roleta de seleção</a></span></li><li><span><a href=\"#Escolhendo-pais-para-procriação\" data-toc-modified-id=\"Escolhendo-pais-para-procriação-1.4.4\"><span class=\"toc-item-num\">1.4.4&nbsp;&nbsp;</span>Escolhendo pais para procriação</a></span></li></ul></li><li><span><a href=\"#Cruzamento\" data-toc-modified-id=\"Cruzamento-1.5\"><span class=\"toc-item-num\">1.5&nbsp;&nbsp;</span>Cruzamento</a></span></li><li><span><a href=\"#Mutação\" data-toc-modified-id=\"Mutação-1.6\"><span class=\"toc-item-num\">1.6&nbsp;&nbsp;</span>Mutação</a></span></li><li><span><a href=\"#Seleção-de-sobreviventes\" data-toc-modified-id=\"Seleção-de-sobreviventes-1.7\"><span class=\"toc-item-num\">1.7&nbsp;&nbsp;</span>Seleção de sobreviventes</a></span></li><li><span><a href=\"#Algortimo-genético\" data-toc-modified-id=\"Algortimo-genético-1.8\"><span class=\"toc-item-num\">1.8&nbsp;&nbsp;</span>Algortimo genético</a></span></li></ul></li><li><span><a href=\"#[Parte-2]-Diferentes-instâncias-de-problema\" data-toc-modified-id=\"[Parte-2]-Diferentes-instâncias-de-problema-2\"><span class=\"toc-item-num\">2&nbsp;&nbsp;</span>[Parte 2] Diferentes instâncias de problema</a></span><ul class=\"toc-item\"><li><span><a href=\"#8-itens\" data-toc-modified-id=\"8-itens-2.1\"><span class=\"toc-item-num\">2.1&nbsp;&nbsp;</span>8 itens</a></span></li><li><span><a href=\"#100-itens\" data-toc-modified-id=\"100-itens-2.2\"><span class=\"toc-item-num\">2.2&nbsp;&nbsp;</span>100 itens</a></span></li><li><span><a href=\"#800-itens\" data-toc-modified-id=\"800-itens-2.3\"><span class=\"toc-item-num\">2.3&nbsp;&nbsp;</span>800 itens</a></span></li></ul></li></ul></div>"
   ]
  },
  {
   "cell_type": "markdown",
   "metadata": {},
   "source": [
    "# [ELE 083] Computação Evolucionária: Trabalho Prático 2\n",
    "__Alunos:__\n",
    "- Hernane Braga Pereira - 2014112627\n",
    "- Nikolas Dias Magalhães Fantoni - 2018019400\n",
    "---\n",
    "# Enunciado\n",
    "\n",
    "Projete e implemente um Algoritmo Genético Geracional (GGA) com codificação binária para solucionar o problema da Mochila 0/1 o qual pode ser descrito da seguinte forma: \n",
    "\n",
    "*“Dados N itens, onde cada item possui um benefício (vj) e um peso associado (wj), o problema consiste em selecionar o subconjunto de itens que maximiza a soma dos benefícios sem ultrapassar a capacidade (cap) da Mochila”.* \n",
    "\n",
    "\n",
    "<img src=\"https://www.codesdope.com/staticroot/images/algorithm/knap1.png\" alt=\"knapsack-example\" width=\"400\"/>\n",
    "\n",
    "\n",
    "---\n",
    "# Resolução do problema:\n",
    "\n",
    "Este notebook está estruturado em duas partes. A primeira contém todas as funções utilizadas para desenvolver o algoritmo evolucionário e a segunda realiza experimentos.  \n"
   ]
  },
  {
   "cell_type": "markdown",
   "metadata": {},
   "source": [
    "---\n",
    "## [Parte 1] Definindo funções\n",
    "### Definindo estrutura de representação do problema\n",
    "\n",
    "O problema será estruturado como um vetor binário, onde 1 representa que o item foi alocado à mochila e 0 que ele não foi.\n",
    "\n",
    "\n",
    "<br><center> $|0| 1| 1| 1| 0| 1| 0| 0|$ </center>"
   ]
  },
  {
   "cell_type": "code",
   "execution_count": 1,
   "metadata": {},
   "outputs": [],
   "source": [
    "import string\n",
    "import numpy as np\n",
    "import random as rdn\n",
    "from scipy.stats import rankdata\n",
    "from matplotlib import pyplot as plt\n",
    "import unittest\n",
    "from typing import AnyStr, Callable"
   ]
  },
  {
   "cell_type": "markdown",
   "metadata": {},
   "source": [
    "---\n",
    "### Inicializando o problema com solução aleatória\n",
    "\n",
    "Retorna uma matriz de tamanho $p$ $x$ $n$ onde $p$ é número de soluções candidatas na população e $n$ é o tamanho da mochila. Eles são preenchidos com valores aleatórios 0 e 1. "
   ]
  },
  {
   "cell_type": "code",
   "execution_count": 2,
   "metadata": {},
   "outputs": [],
   "source": [
    "def initialise_population(population_size:int, array_len:int, universal_set:set) -> np.ndarray:\n",
    "    \"\"\"\n",
    "    Initialise population with random solutions from the universal set\n",
    "        \n",
    "    Arguments:\n",
    "        population_size -- the size of population defined in the parameters\n",
    "        array_len -- array length\n",
    "        universal_set -- numpy array containing all possible elements in the solution\n",
    "        \n",
    "    Returns:\n",
    "        population -- a ndarray with randomly initialize solutions \n",
    "    \"\"\"\n",
    "    set_type = type(next(iter(universal_set)))\n",
    "    population = np.empty((population_size, array_len), set_type)\n",
    "\n",
    "    for i in range(population_size):\n",
    "        population[i, :] = [list(universal_set)[np.random.randint(len(universal_set))] for i in range(array_len)]\n",
    "    \n",
    "    return population"
   ]
  },
  {
   "cell_type": "code",
   "execution_count": 3,
   "metadata": {},
   "outputs": [
    {
     "name": "stdout",
     "output_type": "stream",
     "text": [
      "Population shape: (5, 8) \n",
      "\n",
      " [[1 1 0 0 1 1 1 1]\n",
      " [0 0 1 1 0 1 0 1]\n",
      " [0 0 0 0 1 1 0 1]\n",
      " [0 1 1 0 1 1 1 0]\n",
      " [0 1 0 1 1 1 1 0]]\n"
     ]
    }
   ],
   "source": [
    "universal_set = {0, 1}\n",
    "backpack_size = 8\n",
    "population_size = 5\n",
    "\n",
    "\n",
    "population = initialise_population(population_size, backpack_size, universal_set)\n",
    "print('Population shape:', population.shape, '\\n\\n', population[0:5,:])"
   ]
  },
  {
   "cell_type": "markdown",
   "metadata": {},
   "source": [
    "---\n",
    "### `fit` e `penalty` function\n",
    "\n",
    "Nesta seção serão definidas:\n",
    "\n",
    "1. funcão de penalidade;\n",
    "2. função de fit\n",
    "\n",
    "onde a função det fitness $f^{'}(x ^\\rightarrow)$ e penalidade $Pen(x ^\\rightarrow)$ são definidos como:\n",
    "<br>\n",
    "<center>   $ f^{'}(x ^\\rightarrow) =  \\sum_{j=1}^{N} v_jx_j  - Pen(x ^\\rightarrow)$  </center>\n",
    "onde\n",
    "<center>  $ Pen(x ^\\rightarrow) =  \\begin{cases} 0  & \\text{if $x ^\\rightarrow$ is valid} \\\\  \\rho  \\sum_{j=1}^{N} (w_jx_j) -cap & \\text{otherwise}  \\end{cases} $ </center>\n",
    "    \n",
    "com $\\rho = max \\frac{v_j}{w_j}, \\forall j = 1,...,N.$\n"
   ]
  },
  {
   "cell_type": "code",
   "execution_count": 4,
   "metadata": {},
   "outputs": [],
   "source": [
    "def penalty(solution: np.array, weights: np.array, item_values: np.array, capacity: int) -> float:\n",
    "    \"\"\" Calculate the penalty of a solution\n",
    "        Args:   - solution: numpy array of binary solution\n",
    "                - weight: numpy array of problem weight\n",
    "                - item_values: numpy array of problem item values\n",
    "                - capacity: backpack capacity\n",
    "    \"\"\"\n",
    "    weight_solution = np.dot(solution, weights)\n",
    "    if(weight_solution <= capacity):\n",
    "        return 0    \n",
    "    \n",
    "    else:\n",
    "        penalty_factor = (item_values/weights).max()\n",
    "        penalty_value =  penalty_factor*(weight_solution - capacity)\n",
    "        return penalty_value"
   ]
  },
  {
   "cell_type": "code",
   "execution_count": 5,
   "metadata": {},
   "outputs": [],
   "source": [
    "def fit(solution: np.array, weights: np.array, item_values: np.array, capacity: int) -> float:\n",
    "    \"\"\" Receive a numpy array with a candidate solution and calculate it fit value\n",
    "        Args:   - solution: numpy array of binary solution\n",
    "                - weight: numpy array of problem weight\n",
    "                - item_values: numpy array of problem item values\n",
    "                - capacity: backpack capacity\n",
    "    \"\"\"\n",
    "    penalty_value = penalty(solution, weights, item_values, capacity)\n",
    "    fit_value = np.dot(solution, item_values) - penalty_value\n",
    "    return fit_value"
   ]
  },
  {
   "cell_type": "code",
   "execution_count": 6,
   "metadata": {},
   "outputs": [
    {
     "name": "stdout",
     "output_type": "stream",
     "text": [
      "backpack capacity: 35\n",
      "weight vector: [10 18 12 14 13 11  8  6]\n",
      "value vector: [5 8 7 6 9 5 4 3]\n",
      "\n",
      "Solutions:\n",
      "[0 0 0 1 1 1 1 1] \tpenalty: 11.769 \tfit value: 15.231\n",
      "[1 1 0 0 0 0 0 1] \tpenalty: 0 \t\tfit value: 16\n"
     ]
    }
   ],
   "source": [
    "weight = np.array([10, 18, 12, 14, 13, 11, 8, 6])\n",
    "item_values = np.array([5, 8, 7, 6, 9, 5, 4, 3])\n",
    "capacity = 35\n",
    "\n",
    "print('backpack capacity:', capacity)\n",
    "print('weight vector:', weight)\n",
    "print('value vector:', item_values)\n",
    "\n",
    "print('\\nSolutions:')\n",
    "solution_1 = np.array([0, 0, 0, 1, 1, 1, 1, 1])\n",
    "solution_2 = np.array([1, 1, 0, 0, 0, 0, 0, 1])\n",
    "\n",
    "penalty_value_1 = round(penalty(solution_1, weight, item_values, capacity), 3)\n",
    "penalty_value_2 = round(penalty(solution_2, weight, item_values, capacity), 3)\n",
    "\n",
    "fit_value_1 = round(fit(solution_1, weight, item_values, capacity), 3)\n",
    "fit_value_2 = round(fit(solution_2, weight, item_values, capacity), 3)\n",
    "\n",
    "\n",
    "print(solution_1, '\\tpenalty:', penalty_value_1, '\\tfit value:', fit_value_1)\n",
    "print(solution_2, '\\tpenalty:', penalty_value_2, '\\t\\tfit value:', fit_value_2)"
   ]
  },
  {
   "cell_type": "code",
   "execution_count": 7,
   "metadata": {},
   "outputs": [],
   "source": [
    "def fit_population(population: np.ndarray, weights: np.array, item_values: np.array, capacity: int) -> np.ndarray:\n",
    "    \"\"\"Receive a numpy ndarray with population and return a ndarray containing fit value for each solution\"\"\"\n",
    "    fit_array = np.empty(population.shape[0])\n",
    "    for i in np.arange(population.shape[0]):\n",
    "        fit_array[i] = fit(population[i,:], weights, item_values, capacity)\n",
    "    return fit_array"
   ]
  },
  {
   "cell_type": "code",
   "execution_count": 8,
   "metadata": {},
   "outputs": [
    {
     "name": "stdout",
     "output_type": "stream",
     "text": [
      "Fit population vector:\n",
      " [12.53846154 15.46153846 17.         14.30769231 11.92307692]\n"
     ]
    }
   ],
   "source": [
    "fit_population_ex = fit_population(population, weight, item_values, capacity)\n",
    "print('Fit population vector:\\n',fit_population_ex)"
   ]
  },
  {
   "cell_type": "markdown",
   "metadata": {},
   "source": [
    "---\n",
    "### Seleção de pais\n",
    "\n",
    "Para a seleção de pais será usado o operador de probabilidade de seleção baseado em rankeamento linear e roleta, para isso os seguintes passos são executados:\n",
    "\n",
    "1. um vetor com o valor de fit da população é recebido e calcula-se o rank entre as soluções candidatas;\n",
    "2. aplica-se uma transformação linear no ranque, sendo definido por um parâmetro $s$ que indica a inclinação da reta;\n",
    "3. calcula-se a contribuição proporcional de cada solução candidata que foi ranqueada de forma linear;\n",
    "4. é calculada a função de probabilidade acumulada da contribuição proporcional de soluções;\n",
    "5. a função de probabilidade acumulada é passada para a função de roleta que seleciona aleatoriamente qual soluções é escolhida;\n",
    "6. a função `select_parents` roda a roleta $p$ vezes, onde $p$ é o número de pais a serem selecionados. \n",
    "\n",
    "#### Aplicando rank no fit  da população \n",
    "Atribui um rank ao vetor de fit da população"
   ]
  },
  {
   "cell_type": "code",
   "execution_count": 9,
   "metadata": {},
   "outputs": [],
   "source": [
    "def rank_population(fit_population: np.array, rank_method='ordinal') -> np.array:\n",
    "    \"\"\"Receive a numpy array with solutions fit value and return a numpy array with its rank\"\"\"\n",
    "    return np.array(rankdata(fit_population, method=rank_method)-1).ravel().astype(int)"
   ]
  },
  {
   "cell_type": "code",
   "execution_count": 10,
   "metadata": {},
   "outputs": [
    {
     "name": "stdout",
     "output_type": "stream",
     "text": [
      "Fit example: [1 9 5]\n",
      "Rank result: [0 2 1]\n"
     ]
    }
   ],
   "source": [
    "fit_example = np.array([1, 9, 5])\n",
    "rank_example = rank_population(fit_example)\n",
    "print('Fit example:', fit_example)\n",
    "print('Rank result:', rank_example)"
   ]
  },
  {
   "cell_type": "markdown",
   "metadata": {},
   "source": [
    "#### Aplicando transformação lienar no rank da população \n",
    "Calculo da contribuição proporcional de cada solução candidata que foi ranqueada de forma linear."
   ]
  },
  {
   "cell_type": "code",
   "execution_count": 11,
   "metadata": {},
   "outputs": [],
   "source": [
    "def linear_rank(pop_size:int, rank_i:int, s=1.5) -> float:\n",
    "    \"\"\" Compute proportional selection using linear ranking\n",
    "        Args: - pop_size: population size\n",
    "              - rank_i: rank position from a solution\n",
    "              - s: define the line slope on ranking. 1 <= s <= 2\n",
    "    \"\"\"\n",
    "    first_part = (2-s)/pop_size\n",
    "    second_part = ((2*rank_i)*(s-1))/(pop_size*(pop_size-1))\n",
    "    return first_part + second_part"
   ]
  },
  {
   "cell_type": "code",
   "execution_count": 12,
   "metadata": {},
   "outputs": [],
   "source": [
    "def proportional_rank_population(rank_array: np.array, s=1.5) -> np.array:\n",
    "    \"\"\" Compute proportional selection using linear ranking for all population \"\"\"\n",
    "    pop_size = len(rank_array)\n",
    "    proportional_rank_pop = np.empty(pop_size, float)\n",
    "    for i in range(pop_size):\n",
    "        proportional_rank_pop[i] = linear_rank(pop_size, rank_array[i], s)\n",
    "    return proportional_rank_pop"
   ]
  },
  {
   "cell_type": "code",
   "execution_count": 13,
   "metadata": {},
   "outputs": [
    {
     "name": "stdout",
     "output_type": "stream",
     "text": [
      "Rank example: [0 2 1]\n",
      "Proportional selection to rank example: [0.167 0.5   0.333]\n"
     ]
    }
   ],
   "source": [
    "proportional_rank_pop = proportional_rank_population(rank_example)\n",
    "print('Rank example:', rank_example)\n",
    "print('Proportional selection to rank example:', proportional_rank_pop.round(3))"
   ]
  },
  {
   "cell_type": "markdown",
   "metadata": {},
   "source": [
    "#### Seleção de solução usando roleta de seleção\n",
    "\n",
    "<img src=\"https://www.researchgate.net/publication/311245613/figure/fig3/AS:566020097220608@1511961115040/Roulette-wheel-selection-based-on-fitness.png\" alt=\"roullete-example\" width=\"400\"/>\n"
   ]
  },
  {
   "cell_type": "code",
   "execution_count": 14,
   "metadata": {},
   "outputs": [],
   "source": [
    "def roulette_selection(cdf_pop: np.array, r: float) -> int:\n",
    "    \"\"\" Select a parent to breed using the roulette wheel selection method\n",
    "        Args: - cdf_pop: numpy array containing the population cumulative distribution function \n",
    "              - r: random float number between 0 and 1\n",
    "    \"\"\"\n",
    "    selected_parent = np.where(cdf_pop >= r)[0][0]\n",
    "    return selected_parent"
   ]
  },
  {
   "cell_type": "code",
   "execution_count": 15,
   "metadata": {},
   "outputs": [
    {
     "name": "stdout",
     "output_type": "stream",
     "text": [
      "Given the rank proportion example: [0.31 0.05 0.38 0.12 0.14]\n",
      "The cumulative distribution function is: [0.31 0.36 0.74 0.86 1.  ]\n",
      "\n",
      "For a random number r = 0.5 the selected parent is at index: 2\n"
     ]
    }
   ],
   "source": [
    "rank_proportion_ex = np.array([0.31, 0.05, 0.38, 0.12, 0.14])\n",
    "cdf_pop = np.cumsum(rank_proportion_ex)\n",
    "print('Given the rank proportion example:', rank_proportion_ex)\n",
    "print('The cumulative distribution function is:', cdf_pop)\n",
    "print('\\nFor a random number r = 0.5 the selected parent is at index:', roulette_selection(cdf_pop, 0.5))"
   ]
  },
  {
   "cell_type": "markdown",
   "metadata": {},
   "source": [
    "#### Escolhendo pais para procriação\n",
    "Dado o vetor de proporcionalidade de soluções, a roleta é executada $p$ vezes, onde $p$  é o número de pais a serem selecionados."
   ]
  },
  {
   "cell_type": "code",
   "execution_count": 16,
   "metadata": {},
   "outputs": [],
   "source": [
    "def select_parents(proportional_fit: np.array, number_parents) -> np.array:\n",
    "    \"\"\" Return a numpy containing selected parents for breeding\n",
    "        Args: - proportional_fit: numpy array containing fitness proportion for each solution\n",
    "              - number_parents: number of parents to select\n",
    "    \"\"\"\n",
    "    select_parents = np.empty(number_parents, int)\n",
    "    cdf_pop = np.cumsum(proportional_fit)\n",
    "    for i in np.arange(number_parents):\n",
    "        r = rdn.random()\n",
    "        select_parents[i] = roulette_selection(cdf_pop, r)\n",
    "    return select_parents"
   ]
  },
  {
   "cell_type": "code",
   "execution_count": 17,
   "metadata": {},
   "outputs": [
    {
     "name": "stdout",
     "output_type": "stream",
     "text": [
      "Given the rank proportion example: [0.31 0.05 0.38 0.12 0.14]\n",
      "\n",
      "Selecting 5 parents for breeding the follow solutions are chosen:\n",
      " [3 0 0 2 4]\n"
     ]
    }
   ],
   "source": [
    "rank_proportion_ex = np.array([0.31, 0.05, 0.38, 0.12, 0.14])\n",
    "print('Given the rank proportion example:', rank_proportion_ex)\n",
    "\n",
    "parents = select_parents(rank_proportion_ex, 5)\n",
    "print('\\nSelecting 5 parents for breeding the follow solutions are chosen:\\n', parents)"
   ]
  },
  {
   "cell_type": "markdown",
   "metadata": {},
   "source": [
    "---\n",
    "### Cruzamento\n",
    "Esta etapa é dividida em dois tipos de funções:\n",
    "- funções de cruzamento: `breed_equal_gene` e `breed_crosspoint`;\n",
    "- funções de cruzamento da população: `breed_popultion`.\n",
    "\n",
    "O primeira tipo de função realiza o cruzamento de dois pais para gerar dois filhos, enquanto o segundo tipo segunda executa este procedimento em uma população. \n",
    "\n",
    "Em relação as funções de cruzamento, dois tipos diferentes serão combinados durante o algoritmo genético proposto.\n",
    "\n",
    "- A função `breed_equal_gene` analisa a semelhança entre dois pais. Posições que são iguais são repassadas para frente, as que são diferentes recebem um valor aleatório dentro do espaço amostral.\n",
    "\n",
    "- A função `breed_crosspoint` seleciona aleatoriamente um ponto de corte do vetor e os filhos recebem uma parte de cada pai. "
   ]
  },
  {
   "cell_type": "code",
   "execution_count": 18,
   "metadata": {},
   "outputs": [],
   "source": [
    "def breed_equal_gene(parent_A: np.ndarray, parent_B: np.ndarray, universal_set: set) -> np.ndarray:\n",
    "    \"\"\" \n",
    "    Returns a numpy ndarray of 2 children\n",
    "    Arguments:\n",
    "        parent_A, parent_B -- the solutions candidate to breeding\n",
    "        universal_set -- universal set of problem\n",
    "    \"\"\"\n",
    "    len_parent = len(parent_A)\n",
    "    children = np.empty((2, len_parent), dtype=int)\n",
    "    \n",
    "    for i in range(0, len_parent, 1):\n",
    "        if(parent_A[i] == parent_B[i]):\n",
    "            children[:,i] = parent_A[i]\n",
    "        else:\n",
    "            children[0,i] = list(universal_set)[np.random.randint(len(universal_set))]\n",
    "            children[1,i] = list(universal_set)[np.random.randint(len(universal_set))]\n",
    "    \n",
    "    return children"
   ]
  },
  {
   "cell_type": "code",
   "execution_count": 19,
   "metadata": {},
   "outputs": [],
   "source": [
    "def breed_crosspoint(parent_A: np.ndarray, parent_B: np.ndarray, universal_set: set) -> np.ndarray:\n",
    "    \"\"\" \n",
    "    Returns a numpy ndarray of 2 children\n",
    "    Arguments:\n",
    "        parent_A, parent_B -- the solutions candidate to breeding\n",
    "        crossover_point -- percentual point of cut (between 0 and 1)\n",
    "    \"\"\"\n",
    "    len_parent = len(parent_A)\n",
    "    crossover_point = np.random.randint(len_parent)\n",
    "    children = np.empty((2, len_parent), dtype=int)\n",
    "    \n",
    "    children[0, 0:crossover_point] = parent_A[0:crossover_point]\n",
    "    children[0, crossover_point:] = parent_B[crossover_point:]\n",
    "    \n",
    "    children[1, 0:crossover_point] = parent_B[0:crossover_point]\n",
    "    children[1, crossover_point:] = parent_A[crossover_point:]\n",
    "    \n",
    "    return children"
   ]
  },
  {
   "cell_type": "code",
   "execution_count": 20,
   "metadata": {},
   "outputs": [
    {
     "name": "stdout",
     "output_type": "stream",
     "text": [
      "Parent A: [1, 0, 0, 1, 0]\n",
      "Parent B: [1, 1, 1, 1, 0]\n",
      "\n",
      "Children with equal gene function:\n",
      " [[1 0 0 1 0]\n",
      " [1 0 0 1 0]]\n",
      "\n",
      "Children with crosspoint function:\n",
      " [[1 1 1 1 0]\n",
      " [1 0 0 1 0]]\n"
     ]
    }
   ],
   "source": [
    "parent_A = [1,0,0,1,0]\n",
    "parent_B = [1,1,1,1,0]\n",
    "\n",
    "children1 = breed_equal_gene(parent_A, parent_B, universal_set)\n",
    "children2 = breed_crosspoint(parent_A, parent_B, universal_set)\n",
    "\n",
    "print('Parent A:', parent_A)\n",
    "print('Parent B:', parent_B)\n",
    "print('\\nChildren with equal gene function:\\n', children1)\n",
    "\n",
    "print('\\nChildren with crosspoint function:\\n', children2)"
   ]
  },
  {
   "cell_type": "code",
   "execution_count": 21,
   "metadata": {},
   "outputs": [],
   "source": [
    "def breed_population(population: np.ndarray, parents: np.array, children_number, universal_set, breed) -> np.ndarray:\n",
    "    \"\"\" Return a numpy ndarray with children given a population and a array containing the indexes of selected parents \"\"\"\n",
    "    if(children_number > len(parents) or children_number < 2):\n",
    "        print('Exiting bree function. Number of children must be less or equal then number or parents. Minimum of 2 children.')\n",
    "        print('Returning original population.')\n",
    "        return population\n",
    "    \n",
    "    children = np.empty((children_number, population.shape[1]), int)\n",
    "    \n",
    "    for i in range(0, children_number, 2):\n",
    "        parent_A = parents[i]\n",
    "        next_i = i+1\n",
    "        if(next_i >= len(parents)):\n",
    "            parent_B = parents[0]\n",
    "            children[i, :] = breed(population[parent_A, :], population[parent_B, :], universal_set)[0]\n",
    "            \n",
    "        else:\n",
    "            parent_B = parents[next_i]\n",
    "            children[i:next_i+1, :] = breed(population[parent_A, :], population[parent_B, :], universal_set) \n",
    "        \n",
    "    return children"
   ]
  },
  {
   "cell_type": "markdown",
   "metadata": {},
   "source": [
    "---\n",
    "### Mutação\n",
    "\n",
    "Dado um par de filhos é calculada a chance de mutação, onde é realizada a operação de _bit flip_ valores com 0 se tornam 1 e valores com 1 se tornam 0."
   ]
  },
  {
   "cell_type": "code",
   "execution_count": 22,
   "metadata": {},
   "outputs": [],
   "source": [
    "def mutation_bitflip(children: np.array, mutation_chance=0.5) -> np.ndarray:\n",
    "    \"\"\" Apply mutation to children using bitflip \"\"\"\n",
    "    r = np.random.rand(1)\n",
    "    if(r <= mutation_chance):\n",
    "        bit_pos = np.random.randint(len(children))\n",
    "        if(children[bit_pos] == 1): children[bit_pos] = 0\n",
    "        else: children[bit_pos] = 1\n",
    "    return children"
   ]
  },
  {
   "cell_type": "code",
   "execution_count": 23,
   "metadata": {},
   "outputs": [],
   "source": [
    "def mutation_population(children: np.array, mutation: Callable, mutation_chance=0.5) -> np.ndarray:\n",
    "    \"\"\" Apply mutation on population \"\"\"\n",
    "    for i in np.arange(children.shape[0]):\n",
    "        children[i,:] = mutation(children[i,:], mutation_chance)\n",
    "    return children"
   ]
  },
  {
   "cell_type": "code",
   "execution_count": 24,
   "metadata": {},
   "outputs": [
    {
     "name": "stdout",
     "output_type": "stream",
     "text": [
      "Children:\n",
      " [[1 1 1 1 1 1 1 1]\n",
      " [0 0 0 0 0 0 0 0]\n",
      " [1 0 1 0 1 0 1 0]]\n",
      "\n",
      "Children mutaded:\n",
      " [[1 1 1 1 1 1 1 0]\n",
      " [0 0 1 0 0 0 0 0]\n",
      " [1 0 0 0 1 0 1 0]]\n"
     ]
    }
   ],
   "source": [
    "children = np.array([[1, 1, 1, 1, 1, 1, 1, 1],\n",
    "                     [0, 0, 0, 0, 0, 0, 0 ,0],\n",
    "                     [1, 0, 1, 0, 1, 0, 1, 0]])\n",
    "print('Children:\\n', children)\n",
    "children_mutated = mutation_population(children, mutation_bitflip, 1)\n",
    "print('\\nChildren mutaded:\\n', children_mutated)\n"
   ]
  },
  {
   "cell_type": "markdown",
   "metadata": {},
   "source": [
    "---\n",
    "### Seleção de sobreviventes\n",
    "\n",
    "Seleção é composta de duas etapas:\n",
    "\n",
    "1. próxima geração é gerada à partir de pais e filhos;\n",
    "2. é aplicada uma pressão seletiva que remove o percentual desejado de piores soluções."
   ]
  },
  {
   "cell_type": "code",
   "execution_count": 25,
   "metadata": {},
   "outputs": [],
   "source": [
    "def generation_selection(parents: np.ndarray, children: np.ndarray) -> np.ndarray:\n",
    "    \"\"\" Select the candidate solution for next generation \"\"\"\n",
    "    next_gereration = np.concatenate((parents, children), axis=0)\n",
    "    return next_gereration"
   ]
  },
  {
   "cell_type": "code",
   "execution_count": 26,
   "metadata": {},
   "outputs": [
    {
     "name": "stdout",
     "output_type": "stream",
     "text": [
      "Parents:\n",
      " [[0 1 0 1 0 1 1 0]\n",
      " [0 0 0 1 1 0 0 1]]\n",
      "Children:\n",
      " [[1 1 1 0 0 1 1 1]\n",
      " [1 0 0 1 1 0 1 0]]\n",
      "\n",
      "Next generation:\n",
      " [[0 1 0 1 0 1 1 0]\n",
      " [0 0 0 1 1 0 0 1]\n",
      " [1 1 1 0 0 1 1 1]\n",
      " [1 0 0 1 1 0 1 0]]\n"
     ]
    }
   ],
   "source": [
    "parents = np.array([[0,1,0,1,0, 1, 1,0],\n",
    "                      [0,0,0,1,1, 0, 0,1]])\n",
    "\n",
    "children = np.array([[1, 1, 1, 0, 0, 1, 1, 1],\n",
    "                     [1, 0, 0, 1, 1, 0, 1, 0]])\n",
    "\n",
    "next_generation = generation_selection(parents, children)\n",
    "print('Parents:\\n', parents)\n",
    "print('Children:\\n', children)\n",
    "print('\\nNext generation:\\n', next_generation)"
   ]
  },
  {
   "cell_type": "code",
   "execution_count": 27,
   "metadata": {},
   "outputs": [],
   "source": [
    "def meritocracy_society(fit_pop: np.array, elimination_factor: int = 0.3) -> np.array:\n",
    "    \"\"\" Return population index to be selected given a array of fit values and a elimination factor between 0 and 1.\n",
    "        The solutions with less fit value are eliminated   \n",
    "    \"\"\"\n",
    "    index_cut = round(len(fit_pop)*(1 - elimination_factor))\n",
    "\n",
    "    sorted_population = np.empty((len(fit_pop), 2))\n",
    "    sorted_population[:, 0] = np.arange(len(fit_pop))\n",
    "    sorted_population[:, 1] = fit_pop\n",
    "\n",
    "    sorted_population = sorted_population[sorted_population[:,1].argsort()[::-1]]\n",
    "    sorted_population = sorted_population[0:index_cut, :]\n",
    "    return sorted_population[:,0].astype(int)    "
   ]
  },
  {
   "cell_type": "code",
   "execution_count": 28,
   "metadata": {},
   "outputs": [
    {
     "name": "stdout",
     "output_type": "stream",
     "text": [
      "Next generation before selection pressure:\n",
      " [[0 1 0 1 0 1 1 0]\n",
      " [0 0 0 1 1 0 0 1]\n",
      " [1 1 1 0 0 1 1 1]\n",
      " [1 0 0 1 1 0 1 0]]\n",
      "\n",
      "Fit from each solution: [11.923 18.    11.231 17.077]\n",
      "\n",
      "Next generation after selection pressure removed 30%:\n",
      " [[0 0 0 1 1 0 0 1]\n",
      " [1 0 0 1 1 0 1 0]\n",
      " [0 1 0 1 0 1 1 0]]\n"
     ]
    }
   ],
   "source": [
    "print('Next generation before selection pressure:\\n', next_generation)\n",
    "\n",
    "fit_pop = fit_population(next_generation, weight, item_values, capacity)\n",
    "print('\\nFit from each solution:', fit_pop.round(3))\n",
    "best_next_generation = meritocracy_society(fit_pop)\n",
    "print('\\nNext generation after selection pressure removed 30%:\\n', next_generation[best_next_generation,:])\n"
   ]
  },
  {
   "cell_type": "markdown",
   "metadata": {},
   "source": [
    "---\n",
    "### Algortimo genético\n",
    "1. algortimo é inicializado com soluções aleatórias;\n",
    "2. é calculado o fit da população;\n",
    "3. enquanto o número total de gerações não for alcançado ou o melhor fit não se altere durante *g* gerações faça:\n",
    "    2. remova os menos aptos;\n",
    "    3. rankeie a população de acordo com o fit;\n",
    "    4. selecione pais para cruzamento;\n",
    "    5. gere filhos usando os dois tipos de cruzamento;\n",
    "    6. aplique mutação;\n",
    "    7. calcule o fit dos filhos \n",
    "    8. gere a nova geração com pais + filhos"
   ]
  },
  {
   "cell_type": "code",
   "execution_count": 29,
   "metadata": {
    "hide_input": false
   },
   "outputs": [],
   "source": [
    "def GA_backpack(universal_set, weight, item_values, capacity, parents_number,\n",
    "                children_number, elimination_factor, mutation_chance, generation_change=20):\n",
    "    \n",
    "    result = {'best_solution': [], 'log_best_fit': [], 'log_mean_fit':[]}\n",
    "    fit_pop = [] \n",
    "    diff_lst = []\n",
    "    gen_dif = -1\n",
    "    \n",
    "    # Start population\n",
    "    population = initialise_population(population_size, len(weight), universal_set)\n",
    "    most_adapted_idx = np.arange(len(population))\n",
    "    \n",
    "    fit_pop = fit_population(population, weight, item_values, capacity)  \n",
    "\n",
    "    for i in range(0, generations, 1):           \n",
    "        if(i != 0):\n",
    "            most_adapted_idx = meritocracy_society(fit_pop, elimination_factor) \n",
    "\n",
    "        fit_pop = fit_pop[most_adapted_idx]\n",
    "        population = population[most_adapted_idx]\n",
    "        \n",
    "        idx_best_solution = np.where(fit_pop == np.amax(fit_pop))[0][0]\n",
    "        result['best_solution'] = population[idx_best_solution, :]\n",
    "\n",
    "        result['log_best_fit'].append(fit_pop.max())\n",
    "        result['log_mean_fit'].append(fit_pop.mean())\n",
    "        \n",
    "        if(i > 0): diff_lst.append(result['log_best_fit'][i] - result['log_best_fit'][i-1]) \n",
    "        \n",
    "        if( i > generation_change+1):\n",
    "            diff_np = np.array(diff_lst)\n",
    "            gen_dif = diff_np[-generation_change:].mean()\n",
    "\n",
    "        # stop criteria\n",
    "        solution_weight = np.dot(result['best_solution'], weight)\n",
    "        if(solution_weight <= capacity and gen_dif == 0):\n",
    "            print('Stopping algorithm. Fit value didn\\'t change after',generation_change,'gerenations.')\n",
    "            break\n",
    "\n",
    "        rank_pop = rank_population(fit_pop)\n",
    "        proport_rank_pop = proportional_rank_population(rank_pop)\n",
    "        \n",
    "        parents = select_parents(proport_rank_pop, parents_number)\n",
    "        children1 = breed_population(population, parents, children_number, universal_set, breed_crosspoint)\n",
    "        \n",
    "        parents = select_parents(proport_rank_pop, parents_number)\n",
    "        children2 = breed_population(population, parents, children_number, universal_set, breed_equal_gene)\n",
    "        \n",
    "        children = np.concatenate((children1, children2), axis=0)\n",
    "        children = mutation_population(children, mutation_bitflip, mutation_chance)\n",
    "        \n",
    "        \n",
    "        fit_children = fit_population(children, weight, item_values, capacity)  \n",
    "        fit_pop = np.concatenate((fit_pop, fit_children))\n",
    "\n",
    "        population = generation_selection(population, children)\n",
    "                \n",
    "    return result"
   ]
  },
  {
   "cell_type": "markdown",
   "metadata": {},
   "source": [
    "__Mostrar resultados__ "
   ]
  },
  {
   "cell_type": "code",
   "execution_count": 30,
   "metadata": {
    "hide_input": false
   },
   "outputs": [],
   "source": [
    "def show_results(best_solution, weight, item_values, capacity, log, mean_log):\n",
    "\n",
    "    print('\\nFit:', np.dot(item_values, best_solution))\n",
    "    print('Solution weight:', np.dot(weight, best_solution))\n",
    "    print('Backpack capacity:', capacity)\n",
    "\n",
    "\n",
    "    log = np.array(log)\n",
    "    mean_log = np.array(mean_log)\n",
    "    \n",
    "    plt.title(\"Generations log:\")\n",
    "    plt.xlabel(\"Generations\")\n",
    "    plt.ylabel(\"Fit value\")\n",
    "    plt.plot(log, 'b-', label='Best')\n",
    "    plt.plot(mean_log, 'g-', label='Mean')\n",
    "    plt.legend()\n",
    "\n",
    "    plt.show()\n",
    "    print('Best solution:\\n', best_solution)"
   ]
  },
  {
   "cell_type": "markdown",
   "metadata": {},
   "source": [
    "---\n",
    "## [Parte 2] Diferentes instâncias de problema\n",
    "### 8 itens\n",
    "Aqui são usados os dados do enunciado"
   ]
  },
  {
   "cell_type": "code",
   "execution_count": 31,
   "metadata": {},
   "outputs": [],
   "source": [
    "universal_set = {0, 1}\n",
    "weight = np.array([10, 18, 12, 14, 13, 11, 8, 6])\n",
    "item_values = np.array([5, 8, 7, 6, 9, 5, 4, 3])\n",
    "capacity = 35\n",
    "\n",
    "\n",
    "mutation_chance = 0.1\n",
    "population_size = 50\n",
    "generations = 100\n",
    "elimination_factor = 0.4\n",
    "children_number = 20\n",
    "parents_number = children_number\n",
    "generation_change = 20"
   ]
  },
  {
   "cell_type": "code",
   "execution_count": 32,
   "metadata": {},
   "outputs": [
    {
     "name": "stdout",
     "output_type": "stream",
     "text": [
      "\n",
      "Fit: 21\n",
      "Solution weight: 36\n",
      "Backpack capacity: 35\n"
     ]
    },
    {
     "data": {
      "image/png": "[encoded data removed]",
      "text/plain": [
       "<Figure size 432x288 with 1 Axes>"
      ]
     },
     "metadata": {
      "needs_background": "light"
     },
     "output_type": "display_data"
    },
    {
     "name": "stdout",
     "output_type": "stream",
     "text": [
      "Best solution:\n",
      " [0 0 1 0 1 1 0 0]\n"
     ]
    }
   ],
   "source": [
    "result = GA_backpack(universal_set, weight, item_values, capacity, \n",
    "                     parents_number, children_number, elimination_factor, mutation_chance, generation_change)\n",
    "\n",
    "show_results(result['best_solution'], weight, item_values, capacity, result['log_best_fit'], result['log_mean_fit'])"
   ]
  },
  {
   "cell_type": "markdown",
   "metadata": {},
   "source": [
    "### 100 itens \n",
    "Tanto o vetor de pesos, quanto de valores foi inicializado aleatoriamente com valores:\n",
    "- peso: de 1 a 15\n",
    "- valor: de 1 a 9"
   ]
  },
  {
   "cell_type": "code",
   "execution_count": 33,
   "metadata": {},
   "outputs": [],
   "source": [
    "n_itens = 100\n",
    "\n",
    "weight = np.random.randint(14, size=n_itens) +1\n",
    "item_values = np.random.randint(8, size=n_itens) +1\n",
    "capacity = 40\n",
    "\n",
    "\n",
    "universal_set = {0, 1}\n",
    "\n",
    "\n",
    "\n",
    "mutation_chance = 0.2\n",
    "population_size = 100\n",
    "generations = 600\n",
    "elimination_factor = 0.4\n",
    "children_number = 100\n",
    "parents_number = children_number\n",
    "generation_change = 50"
   ]
  },
  {
   "cell_type": "code",
   "execution_count": 34,
   "metadata": {},
   "outputs": [
    {
     "name": "stdout",
     "output_type": "stream",
     "text": [
      "Stopping algorithm. Fit value didn't change after 50 gerenations.\n",
      "\n",
      "Fit: 76\n",
      "Solution weight: 40\n",
      "Backpack capacity: 40\n"
     ]
    },
    {
     "data": {
      "image/png": "[encoded data removed]",
      "text/plain": [
       "<Figure size 432x288 with 1 Axes>"
      ]
     },
     "metadata": {
      "needs_background": "light"
     },
     "output_type": "display_data"
    },
    {
     "name": "stdout",
     "output_type": "stream",
     "text": [
      "Best solution:\n",
      " [0 0 0 1 1 0 1 0 0 0 0 0 1 0 0 0 0 0 0 0 0 0 1 0 0 0 0 0 1 0 0 0 0 0 1 0 0\n",
      " 0 0 0 0 0 0 0 0 0 0 0 0 0 0 1 1 0 0 0 0 0 0 0 0 0 0 0 0 0 0 0 1 0 1 0 0 0\n",
      " 0 0 0 0 0 0 0 0 0 0 0 0 0 0 1 0 0 0 1 0 0 0 0 0 0 0]\n"
     ]
    }
   ],
   "source": [
    "result = GA_backpack(universal_set, weight, item_values, capacity, \n",
    "                     parents_number, children_number, elimination_factor, mutation_chance, generation_change)\n",
    "\n",
    "show_results(result['best_solution'], weight, item_values, capacity, result['log_best_fit'], result['log_mean_fit'])"
   ]
  },
  {
   "cell_type": "markdown",
   "metadata": {},
   "source": [
    "### 800 itens \n",
    "Tanto o vetor de pesos, quanto de valores foi inicializado aleatoriamente com valores:\n",
    "- peso: de 1 a 15\n",
    "- valor: de 1 a 9"
   ]
  },
  {
   "cell_type": "code",
   "execution_count": 35,
   "metadata": {},
   "outputs": [],
   "source": [
    "n_itens = 800\n",
    "\n",
    "weight = np.random.randint(14, size=n_itens) +1\n",
    "item_values = np.random.randint(8, size=n_itens) +1\n",
    "capacity = 40\n",
    "\n",
    "universal_set = {0, 1}\n",
    "\n",
    "\n",
    "mutation_chance = 0.5\n",
    "population_size = 400\n",
    "generations = 1000\n",
    "elimination_factor = 0.5\n",
    "children_number = 250\n",
    "parents_number = children_number\n",
    "generation_change = 50"
   ]
  },
  {
   "cell_type": "code",
   "execution_count": 36,
   "metadata": {},
   "outputs": [
    {
     "name": "stdout",
     "output_type": "stream",
     "text": [
      "Stopping algorithm. Fit value didn't change after 50 gerenations.\n",
      "\n",
      "Fit: 252\n",
      "Solution weight: 40\n",
      "Backpack capacity: 40\n"
     ]
    },
    {
     "data": {
      "image/png": "[encoded data removed]",
      "text/plain": [
       "<Figure size 432x288 with 1 Axes>"
      ]
     },
     "metadata": {
      "needs_background": "light"
     },
     "output_type": "display_data"
    },
    {
     "name": "stdout",
     "output_type": "stream",
     "text": [
      "Best solution:\n",
      " [0 0 0 0 1 0 1 0 0 0 0 0 0 0 0 0 0 0 0 0 0 0 0 0 0 0 0 0 0 0 0 0 0 0 0 0 0\n",
      " 0 0 0 0 0 0 0 0 0 0 0 0 0 0 0 0 0 0 0 0 0 0 0 0 0 0 0 0 1 0 0 0 0 0 0 0 0\n",
      " 1 0 0 0 0 0 0 0 0 0 0 0 0 0 0 0 0 0 0 0 0 0 0 0 0 0 0 0 1 0 1 0 0 0 0 0 0\n",
      " 0 0 0 0 0 0 0 0 1 0 0 0 0 0 0 0 0 0 0 0 0 0 0 0 0 0 0 1 0 0 0 0 0 0 0 0 0\n",
      " 0 1 0 0 0 1 0 0 0 0 0 0 0 0 0 0 0 0 0 0 0 0 0 0 0 0 0 0 0 0 0 0 0 0 0 0 0\n",
      " 0 0 0 0 0 0 0 1 0 0 0 0 0 0 0 0 0 0 0 0 0 0 0 0 0 0 0 0 0 0 0 0 0 0 0 0 0\n",
      " 0 0 0 0 0 0 0 0 0 0 0 0 0 0 0 0 0 0 1 0 0 0 0 0 1 0 0 0 0 0 0 0 0 0 0 0 0\n",
      " 0 0 0 0 0 0 0 0 0 1 0 0 0 0 0 0 0 0 0 0 0 0 0 0 0 0 0 0 0 0 0 0 0 0 0 0 0\n",
      " 0 0 0 0 0 0 0 0 0 1 0 1 0 0 0 0 0 0 0 0 0 0 0 0 0 0 0 0 0 0 0 1 0 0 0 0 0\n",
      " 0 0 0 0 0 0 0 0 0 0 0 0 0 0 0 0 0 0 1 0 0 0 0 0 0 0 0 0 0 0 0 0 0 0 0 0 0\n",
      " 0 0 0 0 0 0 0 0 0 0 0 0 0 0 0 0 0 0 0 0 0 0 0 0 0 0 0 0 0 0 0 0 0 0 0 0 0\n",
      " 0 0 0 0 0 0 0 0 0 0 0 0 1 0 0 0 0 0 0 0 1 0 0 0 0 0 0 0 0 0 0 0 0 0 0 0 0\n",
      " 0 0 0 0 0 0 0 0 0 0 0 0 0 0 0 0 0 0 0 0 0 0 0 0 0 0 0 0 0 0 0 0 0 0 0 0 0\n",
      " 0 0 0 0 0 0 0 0 0 0 0 0 0 0 0 0 0 0 0 0 0 0 0 0 0 0 0 0 1 0 0 0 0 0 0 0 0\n",
      " 0 0 0 0 0 0 0 0 0 0 0 0 0 0 0 0 0 0 0 0 0 0 0 0 0 0 0 1 0 0 0 0 0 0 0 0 0\n",
      " 0 0 0 0 0 0 0 0 0 0 0 0 0 0 0 0 0 0 0 0 0 0 0 0 0 0 1 0 0 0 0 1 0 0 0 0 0\n",
      " 0 0 0 0 1 0 0 0 0 0 0 0 0 0 0 1 0 0 0 0 0 0 0 0 0 0 0 0 0 0 0 0 0 0 0 0 0\n",
      " 1 0 0 0 0 0 0 0 0 0 0 0 0 0 1 0 0 0 0 0 0 0 0 0 0 0 1 0 0 0 0 0 0 0 0 1 0\n",
      " 0 0 1 0 0 0 0 0 0 0 0 0 0 0 0 0 0 1 0 0 0 0 0 0 0 0 0 0 0 0 0 0 0 0 0 0 0\n",
      " 1 0 0 0 0 0 0 0 0 0 0 0 0 0 0 0 0 0 0 0 0 0 0 0 0 0 0 0 0 0 0 0 0 0 0 0 0\n",
      " 0 0 0 0 0 0 0 0 0 0 0 0 0 0 0 0 0 0 0 0 1 1 0 0 0 0 0 0 0 0 0 0 0 0 0 0 0\n",
      " 0 0 1 1 0 0 0 0 0 0 0 0 1 0 0 0 0 0 0 0 0 0 0]\n"
     ]
    }
   ],
   "source": [
    "result = GA_backpack(universal_set, weight, item_values, capacity, \n",
    "                     parents_number, children_number, elimination_factor, mutation_chance, generation_change)\n",
    "\n",
    "show_results(result['best_solution'], weight, item_values, capacity, result['log_best_fit'], result['log_mean_fit'])"
   ]
  },
  {
   "cell_type": "markdown",
   "metadata": {},
   "source": [
    "__Teste unitarios utilizando durante o desenvolvimento__"
   ]
  },
  {
   "cell_type": "code",
   "execution_count": 37,
   "metadata": {},
   "outputs": [],
   "source": [
    "class Test_GA(unittest.TestCase):\n",
    "    def test_penalty(self):\n",
    "        weight = np.array([10, 18, 12, 14, 13, 11, 8, 6])\n",
    "        value = np.array([5, 8, 7, 6, 9, 5, 4, 3])\n",
    "        capacity = 35\n",
    "        \n",
    "        solution_1 = np.array([0, 0, 0, 1, 1, 1, 1, 1])\n",
    "        solution_2 = np.array([1, 1, 0, 0, 0, 0, 0, 1])\n",
    "        \n",
    "        result_1 = penalty(solution_1, weight, value, capacity)\n",
    "        result_2 = penalty(solution_2, weight, value, capacity)\n",
    "        \n",
    "        expected_1 = 11.769\n",
    "        expected_2 = 0\n",
    "        \n",
    "        self.assertEqual(result_1.round(3), expected_1)\n",
    "        self.assertEqual(result_2, expected_2)"
   ]
  },
  {
   "cell_type": "code",
   "execution_count": 38,
   "metadata": {},
   "outputs": [
    {
     "name": "stderr",
     "output_type": "stream",
     "text": [
      "test_penalty (__main__.Test_GA) ... ok\n",
      "\n",
      "----------------------------------------------------------------------\n",
      "Ran 1 test in 0.001s\n",
      "\n",
      "OK\n"
     ]
    },
    {
     "data": {
      "text/plain": [
       "<unittest.main.TestProgram at 0x1994529eac8>"
      ]
     },
     "execution_count": 38,
     "metadata": {},
     "output_type": "execute_result"
    }
   ],
   "source": [
    "unittest.main(argv=[''], verbosity=2, exit=False)"
   ]
  }
 ],
 "metadata": {
  "kernelspec": {
   "display_name": "Python 3",
   "language": "python",
   "name": "python3"
  },
  "language_info": {
   "codemirror_mode": {
    "name": "ipython",
    "version": 3
   },
   "file_extension": ".py",
   "mimetype": "text/x-python",
   "name": "python",
   "nbconvert_exporter": "python",
   "pygments_lexer": "ipython3",
   "version": "3.7.7"
  },
  "latex_envs": {
   "LaTeX_envs_menu_present": true,
   "autoclose": false,
   "autocomplete": true,
   "bibliofile": "biblio.bib",
   "cite_by": "apalike",
   "current_citInitial": 1,
   "eqLabelWithNumbers": true,
   "eqNumInitial": 1,
   "hotkeys": {
    "equation": "Ctrl-E",
    "itemize": "Ctrl-I"
   },
   "labels_anchors": false,
   "latex_user_defs": false,
   "report_style_numbering": false,
   "user_envs_cfg": false
  },
  "toc": {
   "base_numbering": 1,
   "nav_menu": {},
   "number_sections": true,
   "sideBar": true,
   "skip_h1_title": true,
   "title_cell": "Sumário",
   "title_sidebar": "Navegação",
   "toc_cell": true,
   "toc_position": {
    "height": "calc(100% - 180px)",
    "left": "10px",
    "top": "150px",
    "width": "480px"
   },
   "toc_section_display": true,
   "toc_window_display": true
  }
 },
 "nbformat": 4,
 "nbformat_minor": 4
}
